{
  "nbformat": 4,
  "nbformat_minor": 0,
  "metadata": {
    "colab": {
      "name": "A1_19102026_Lakshya Saxena_lab 1.ipynb",
      "provenance": [],
      "collapsed_sections": [],
      "include_colab_link": true
    },
    "kernelspec": {
      "display_name": "Python 3",
      "language": "python",
      "name": "python3"
    },
    "language_info": {
      "codemirror_mode": {
        "name": "ipython",
        "version": 3
      },
      "file_extension": ".py",
      "mimetype": "text/x-python",
      "name": "python",
      "nbconvert_exporter": "python",
      "pygments_lexer": "ipython3",
      "version": "3.8.5"
    }
  },
  "cells": [
    {
      "cell_type": "markdown",
      "metadata": {
        "id": "view-in-github",
        "colab_type": "text"
      },
      "source": [
        "<a href=\"https://colab.research.google.com/github/saxena07/Google-Colab-Python/blob/main/A1_19102026_Lakshya_Saxena_lab_1.ipynb\" target=\"_parent\"><img src=\"https://colab.research.google.com/assets/colab-badge.svg\" alt=\"Open In Colab\"/></a>"
      ]
    },
    {
      "cell_type": "markdown",
      "metadata": {
        "id": "lUT6doS1ktvP"
      },
      "source": [
        "## **Experiment 1**\n",
        "## **Aim:** Introduction to Python and its various applications. \n",
        "##**Theory:**\n",
        "  # Python\n",
        "• High level, interpreted, and general-purpose dynamic programming\n",
        "language.\n",
        "\n",
        "###open Google colab in your browser,then new file\n",
        "\n",
        "\n",
        "**Overview of Google Colab Interface**\n",
        "\n",
        "1. Two **main ingredients** in a notebook are:\n",
        "  * **Kernels**: The \"computational engine\" which executes code blocks of the notebook\n",
        "  * **Cells**: A container for code or text (e.g., this is written within a markdown cell)\n",
        "  * **Text** cell uses **markdown language**. If you're unfamiliar with Markdown syntax, check our this [cheat sheet](https://www.markdownguide.org/cheat-sheet).\n",
        "   * **Code** cell contains **Python** code. Few important key-shortcuts while using **Code** cell:\n",
        "    >* `Shift + Enter`: Executes the current cell and moves to the next\n",
        "    >* `Shift + Tab`: Brings up documentation. Try this after entering `np.ones(`\n",
        " # Inserting Module\n",
        " ## What is a module?\n",
        " Certain functions are always defined, split(), len(<list>). But to access more\n",
        "functions, must import their module.\n",
        "* import <module name> is equivalent to #include <name>.h in C and C++\n",
        "### Module:\n",
        "  * A file containing functions, definitions, and/or executable statements.\n",
        "  * The module name is just the file name with .py removed.\n",
        "  * To import:\n",
        "# Method 1 (Recommended)\n",
        "import module1 as mod1\n",
        "\n",
        "    mod1.some_func()\n",
        "# Vectors, Matrices, and Arrays\n",
        "\n",
        "### 1.0 Introduction\n",
        "Numpy is the foundation of the Python machine learning stack. It allows for efficient operations on the data structures often used in machine learning: vectors, matricies, and tensors.\n",
        "\n",
        "This chapter covers the most common NumPy operations we are likely to run into\n",
        "\n",
        "### 1.1 Creating a Vector\n",
        "#### Problem\n",
        "You need to create a vector\n",
        "#### Solution\n",
        "Use Numpy to create a one-dimensional array"
      ]
    },
    {
      "cell_type": "code",
      "metadata": {
        "colab": {
          "base_uri": "https://localhost:8080/"
        },
        "id": "POUQGXXIktvQ",
        "outputId": "d96a6ccb-b5f2-4433-cc31-2187da34dd21"
      },
      "source": [
        "# load library\n",
        "import numpy as np\n",
        "\n",
        "# create a vector as a row\n",
        "vector_row=np.array([2, 5, 6])\n",
        "print(vector_row)\n",
        "\n",
        "# create a vetor as a column\n",
        "vector_column=np.array([[1],[6],[3]])\n",
        "print(vector_column)"
      ],
      "execution_count": null,
      "outputs": [
        {
          "output_type": "stream",
          "name": "stdout",
          "text": [
            "[2 5 6]\n",
            "[[1]\n",
            " [6]\n",
            " [3]]\n"
          ]
        }
      ]
    },
    {
      "cell_type": "markdown",
      "metadata": {
        "id": "xMFCSDrASOuZ"
      },
      "source": [
        ""
      ]
    },
    {
      "cell_type": "markdown",
      "metadata": {
        "id": "RYbYIUvLktvT"
      },
      "source": [
        "#### Discussion\n",
        "Numpy's main data structure is the multidimensional array\n",
        "\n",
        "#### See Also\n",
        "* Vectors, Math is Fun (https://www.mathsisfun.com/algebra/vectors.html)\n",
        "* Euclidian vector, Wikipedia (https://en.wikipedia.org/wiki/Euclidean_vector)\n",
        "\n",
        "### 1.2 Creating a Matrix\n",
        "\n",
        "#### Problem\n",
        "You need to create a matrix.\n",
        "\n",
        "#### Solution\n",
        "Use Numpy to create a two-dimensional array:"
      ]
    },
    {
      "cell_type": "markdown",
      "metadata": {
        "id": "OoZg0oVjktvY"
      },
      "source": [
        "#### Discussion\n",
        "To create a matrix we can use a NumPy two-dimensional array. In our solution, the matrix contains three rows and two columns (a column of 1s and a column of 2s)\n",
        "\n",
        "NumPy actually has a dedicated matrix data structure:"
      ]
    },
    {
      "cell_type": "code",
      "metadata": {
        "colab": {
          "base_uri": "https://localhost:8080/"
        },
        "id": "5uZTTe0rktvU",
        "outputId": "ca9c2251-1d76-4b7e-a931-70434fc749f4"
      },
      "source": [
        "# load library\n",
        "import numpy as np\n",
        "\n",
        "# create a matrix\n",
        "matrix=np.array([[1, 2, 3],[1, 3, 4],[1, 4, 5]])\n",
        "print(matrix)"
      ],
      "execution_count": null,
      "outputs": [
        {
          "output_type": "stream",
          "name": "stdout",
          "text": [
            "[[1 2 3]\n",
            " [1 3 4]\n",
            " [1 4 5]]\n"
          ]
        }
      ]
    },
    {
      "cell_type": "markdown",
      "metadata": {
        "id": "zXGNGRJTktvd"
      },
      "source": [
        "However the matrix data structure is not recommended for two reasons. First, arrays are the de facto standard data structure of NumPy. Second the vast majority of NumPy operations return arrays, not matrix objects.\n",
        "\n",
        "#### See Also\n",
        "* Matrix, Wikipedia (https://en.wikipedia.org/wiki/Matrix_(mathematics)\n",
        "* Matrix, Wolfram MathWorld (http://mathworld.wolfram.com/Matrix.html)"
      ]
    },
    {
      "cell_type": "markdown",
      "metadata": {
        "id": "uV44moyBktve"
      },
      "source": [
        "### 1.3 Creating a Sparse Matrix\n",
        "#### Problem\n",
        "Given data with very few nonzero values, you want to efficiently represent it.\n",
        "\n",
        "#### Solution\n",
        "Create a sparse matrix:"
      ]
    },
    {
      "cell_type": "code",
      "metadata": {
        "colab": {
          "base_uri": "https://localhost:8080/"
        },
        "id": "Z7_15b27ktve",
        "outputId": "c89a89bd-c44a-425e-a104-f6180c978cdc"
      },
      "source": [
        "# load libraries\n",
        "import numpy as np\n",
        "from scipy import sparse\n",
        "\n",
        "# create a matrix\n",
        "matrix = np.array([[0, 4],\n",
        "                  [0, 1],\n",
        "                  [3, 0]])\n",
        "\n",
        "# create compressed sparse row (CSR) matrix\n",
        "matrix_sparse = sparse.csr_matrix(matrix)\n",
        "print(matrix)\n",
        "print(matrix_sparse)"
      ],
      "execution_count": null,
      "outputs": [
        {
          "output_type": "stream",
          "name": "stdout",
          "text": [
            "[[0 4]\n",
            " [0 1]\n",
            " [3 0]]\n",
            "  (0, 1)\t4\n",
            "  (1, 1)\t1\n",
            "  (2, 0)\t3\n"
          ]
        }
      ]
    },
    {
      "cell_type": "markdown",
      "metadata": {
        "collapsed": true,
        "id": "5OCn7pxPktvh"
      },
      "source": [
        "#### Discussion\n",
        "A frequent situation in machine learning is having a huge amount of data; however most of the elements in the data are zeros. For example, imagine a matrix where the columns are every movie on Netflix, the rows are every Netflix user, and the values are how many times a user has watched that particular movie. This matrix would have tens of thousands of columns and millions of rows! However, since most users do not watch most movies, the vast majority of elements would be zero.\n",
        "\n",
        "Sparse matricies only store nonzero elements and assume all other values will be zero, leading to significant computational savings. In our solution, we created a Numpy array with two nonzero values, then converted it into a sparse matrix. If we view the sparse matrix we can see that only the nonzero values are stored:"
      ]
    },
    {
      "cell_type": "code",
      "metadata": {
        "colab": {
          "base_uri": "https://localhost:8080/"
        },
        "id": "paCmUaxYktvi",
        "outputId": "1956afb0-9042-41db-fbae-3bf1f64b551f"
      },
      "source": [
        "# view sparse matrix\n",
        "print(matrix_sparse)\n"
      ],
      "execution_count": null,
      "outputs": [
        {
          "output_type": "stream",
          "text": [
            "  (1, 1)\t1\n",
            "  (2, 0)\t3\n"
          ],
          "name": "stdout"
        }
      ]
    },
    {
      "cell_type": "markdown",
      "metadata": {
        "id": "9wCa2Mkdktvl"
      },
      "source": [
        "There are a number of types of sparse matrices. However, in compressed sparse row (CSR) matrices, (1, 1) and (2, 0) represent the (zero-indexed) indices of the non-zero values 1 and 3, respectively. For example, the element 1 is in the second row and second column. We can see the advantage of sparse matrices if we create a much larger matrix with many more zero elements and then compare this larger matrix with our original sparse matrix:"
      ]
    },
    {
      "cell_type": "code",
      "metadata": {
        "colab": {
          "base_uri": "https://localhost:8080/"
        },
        "id": "d6iAtvrBktvl",
        "outputId": "f0b9060e-087f-40ea-ae43-f946d435296d"
      },
      "source": [
        "# create larger matrix\n",
        "x = np.array([[0, 0, 0, 0, 0, 0, 0, 0, 0, 0],\n",
        "                         [0, 1, 0, 0, 0, 0, 0, 0, 0, 0],\n",
        "                         [3, 0, 0, 0, 0, 0, 0, 0, 0, 0]])\n",
        "\n",
        "\n",
        "# create compressed sparse row (CSR) matrix\n",
        "y = sparse.csr_matrix(x)\n",
        "\n",
        "# view original sparse matrix\n",
        "print(y)"
      ],
      "execution_count": null,
      "outputs": [
        {
          "output_type": "stream",
          "name": "stdout",
          "text": [
            "  (1, 1)\t1\n",
            "  (2, 0)\t3\n"
          ]
        }
      ]
    },
    {
      "cell_type": "code",
      "metadata": {
        "id": "8S-wJtE8ktvo"
      },
      "source": [
        "# view larger sparse matrix\n"
      ],
      "execution_count": null,
      "outputs": []
    },
    {
      "cell_type": "markdown",
      "metadata": {
        "id": "8ZRIcdM8ktvs"
      },
      "source": [
        "As we can see, despite the fact that we added many more zero elements in the larger matrix, its sparse representation is exactly the same as our original sparse matrix. That is, the addition of zero elements did not change the size of the sparse matrix.\n",
        "\n",
        "As mentioned, there are many different types of sparse matrices, such as compressed sparse column, list of lists, and dictionary of keys. While an explanation of the different types and their implications is outside the scope, it is worth noting that while there is no “best” sparse matrix type, there are meaningful differences between them and we should be conscious about why we are choosing one type over another.\n",
        "\n",
        "#### See Also\n",
        "* Sparse matrices, SciPy documentation (https://docs.scipy.org/doc/scipy/reference/sparse.html)\n",
        "* 101 Ways to Store a Sparse Matrix (https://medium.com/@jmaxg3/101-ways-to-store-a-sparse-matrix-c7f2bf15a229)\n",
        "\n",
        "### 1.4 Selected Elements\n",
        "#### Problem\n",
        "You need to select one or more elements in a vector or matrix.\n",
        "\n",
        "#### Solution\n",
        "NumPy's arrays make that easy"
      ]
    },
    {
      "cell_type": "code",
      "metadata": {
        "colab": {
          "base_uri": "https://localhost:8080/"
        },
        "id": "z9eUS6_Uktvs",
        "outputId": "909912e5-0198-48fc-bf39-acfcca47442b"
      },
      "source": [
        "# load library\n",
        "import numpy as np\n",
        "\n",
        "# create row vector\n",
        "vector = np.array([1, 2, 3, 4, 5, 6])\n",
        "\n",
        "# create matrix\n",
        "matrix = np.array([[1, 2, 3],\n",
        "                   [4, 5, 6],\n",
        "                   [7, 8, 9]])\n",
        "\n",
        "# select the third element of vector\n",
        "vector[2:6]"
      ],
      "execution_count": null,
      "outputs": [
        {
          "output_type": "execute_result",
          "data": {
            "text/plain": [
              "array([3, 4, 5, 6])"
            ]
          },
          "metadata": {},
          "execution_count": 6
        }
      ]
    },
    {
      "cell_type": "code",
      "metadata": {
        "colab": {
          "base_uri": "https://localhost:8080/"
        },
        "id": "0ICdzh2cktvv",
        "outputId": "0315c639-7927-47d2-9cc5-a929a3a26433"
      },
      "source": [
        "# select second row, second column\n",
        "matrix[1,1]"
      ],
      "execution_count": null,
      "outputs": [
        {
          "output_type": "execute_result",
          "data": {
            "text/plain": [
              "5"
            ]
          },
          "metadata": {},
          "execution_count": 7
        }
      ]
    },
    {
      "cell_type": "markdown",
      "metadata": {
        "id": "Amz_Mv2Mktvx"
      },
      "source": [
        "#### Discussion\n",
        "Like most things in Python, NumPy arrays are zero-indexed, meaning that the index of the first element is 0, not 1. With that caveat, NumPy offers a wide variety of methods for selecting (i.e., indexing and slicing) elements or groups of elements in arrays:"
      ]
    },
    {
      "cell_type": "code",
      "metadata": {
        "colab": {
          "base_uri": "https://localhost:8080/"
        },
        "id": "f4-EkEWsktvx",
        "outputId": "4a652e8f-d8af-4c6e-e484-93dd60eb7ccc"
      },
      "source": [
        "# Select all elements of a vector\n",
        "vector[:]"
      ],
      "execution_count": null,
      "outputs": [
        {
          "output_type": "execute_result",
          "data": {
            "text/plain": [
              "array([1, 2, 3, 4, 5, 6])"
            ]
          },
          "metadata": {},
          "execution_count": 8
        }
      ]
    },
    {
      "cell_type": "code",
      "metadata": {
        "colab": {
          "base_uri": "https://localhost:8080/"
        },
        "id": "ft2kQ5bwktv0",
        "outputId": "ececce5a-750e-4fa2-e3b9-4e92f8fd24ce"
      },
      "source": [
        "# select everything up to and including the third element\n",
        "vector[:2]"
      ],
      "execution_count": null,
      "outputs": [
        {
          "output_type": "execute_result",
          "data": {
            "text/plain": [
              "array([1, 2])"
            ]
          },
          "metadata": {
            "tags": []
          },
          "execution_count": 18
        }
      ]
    },
    {
      "cell_type": "code",
      "metadata": {
        "colab": {
          "base_uri": "https://localhost:8080/"
        },
        "id": "uIEl-S6Tktv2",
        "outputId": "265ba040-a88f-493c-cad0-90587e935d71"
      },
      "source": [
        "# select the last element\n",
        "vector[-5]"
      ],
      "execution_count": null,
      "outputs": [
        {
          "output_type": "execute_result",
          "data": {
            "text/plain": [
              "2"
            ]
          },
          "metadata": {},
          "execution_count": 7
        }
      ]
    },
    {
      "cell_type": "code",
      "metadata": {
        "colab": {
          "base_uri": "https://localhost:8080/"
        },
        "id": "YnwWnSpHktv4",
        "outputId": "ae6769d6-9206-4d80-a54b-56b76a7a283a"
      },
      "source": [
        "# select the first two rows and all columns of a matrix\n",
        "matrix[:2, :]"
      ],
      "execution_count": null,
      "outputs": [
        {
          "output_type": "execute_result",
          "data": {
            "text/plain": [
              "array([[1, 2, 3],\n",
              "       [4, 5, 6]])"
            ]
          },
          "metadata": {
            "tags": []
          },
          "execution_count": 16
        }
      ]
    },
    {
      "cell_type": "code",
      "metadata": {
        "colab": {
          "base_uri": "https://localhost:8080/"
        },
        "id": "ndEC51Dwktv7",
        "outputId": "80271d32-5310-4686-b3ab-32f4d13e25b0"
      },
      "source": [
        "# select all rows and the second column\n",
        "matrix[:,1:2]"
      ],
      "execution_count": null,
      "outputs": [
        {
          "output_type": "execute_result",
          "data": {
            "text/plain": [
              "array([[2],\n",
              "       [5],\n",
              "       [8]])"
            ]
          },
          "metadata": {
            "tags": []
          },
          "execution_count": 17
        }
      ]
    },
    {
      "cell_type": "markdown",
      "metadata": {
        "id": "zOcuWlPyktv_"
      },
      "source": [
        "### 1.5 Describing a Matrix\n",
        "#### Problem\n",
        "You want to describe the shape, size, and dimensions of the matrix\n",
        "\n",
        "#### Solution\n",
        "Use shape, size, and ndim:"
      ]
    },
    {
      "cell_type": "code",
      "metadata": {
        "colab": {
          "base_uri": "https://localhost:8080/"
        },
        "id": "5RGzNqZvktwA",
        "outputId": "bb047f79-a181-4bef-af84-3ceffe05be0e"
      },
      "source": [
        "# load library\n",
        "import numpy as np\n",
        "\n",
        "# create matrix\n",
        "ix = np.array([[1, 2, 3, 4],\n",
        "                   [5, 6, 7, 8],\n",
        "                   [9, 10, 11, 12]])\n",
        "\n",
        "# view number of rows and columns\n",
        "matrix.shape"
      ],
      "execution_count": null,
      "outputs": [
        {
          "output_type": "execute_result",
          "data": {
            "text/plain": [
              "(3, 4)"
            ]
          },
          "metadata": {},
          "execution_count": 9
        }
      ]
    },
    {
      "cell_type": "code",
      "metadata": {
        "colab": {
          "base_uri": "https://localhost:8080/"
        },
        "id": "yS9lun-yktwD",
        "outputId": "0dfb3cdb-94b6-468e-9186-6ad698a8017d"
      },
      "source": [
        "# view number of elements (rows * columns)\n",
        "ix.size"
      ],
      "execution_count": null,
      "outputs": [
        {
          "output_type": "execute_result",
          "data": {
            "text/plain": [
              "12"
            ]
          },
          "metadata": {},
          "execution_count": 11
        }
      ]
    },
    {
      "cell_type": "code",
      "metadata": {
        "colab": {
          "base_uri": "https://localhost:8080/"
        },
        "id": "pDBchohpktwH",
        "outputId": "ef0f25a8-9cf0-462e-efb4-c9ab3f540a44"
      },
      "source": [
        "# view number of dimensions\n",
        "ix.ndim"
      ],
      "execution_count": null,
      "outputs": [
        {
          "output_type": "execute_result",
          "data": {
            "text/plain": [
              "2"
            ]
          },
          "metadata": {},
          "execution_count": 12
        }
      ]
    },
    {
      "cell_type": "markdown",
      "metadata": {
        "id": "L0tOAlZRktwL"
      },
      "source": [
        "#### Discussion\n",
        "This might seem basic (and it is); however, time and again it will be valuable to check the shape and size of an array both for further calculations and simply as a gut check after some operation\n",
        "\n",
        "### 1.6 Applying Operations to Elements\n",
        "#### Problem\n",
        "You want to apply some function to multiple elements in an array.\n",
        "\n",
        "#### Solutions\n",
        "Use NumPy's vectorize:"
      ]
    },
    {
      "cell_type": "code",
      "metadata": {
        "colab": {
          "base_uri": "https://localhost:8080/"
        },
        "id": "CB2isZyOktwM",
        "outputId": "da16240d-3226-415a-ee68-b488990938b0"
      },
      "source": [
        "# load library\n",
        "import numpy as np\n",
        "\n",
        "# create matrix\n",
        "matrix = np.array([[1, 2, 3],\n",
        "                   [4, 5, 6],\n",
        "                   [7, 8, 9]])\n",
        "\n",
        "# create function that adds 1000 to something\n",
        "add_1000 = lambda i: i + 1000\n",
        "\n",
        "# create vectorized function\n",
        "vectorized_add_1000 = np.vectorize(add_1000)\n",
        "\n",
        "# apply function to all elementsin matrix\n",
        "vectorized_add_1000(matrix)"
      ],
      "execution_count": null,
      "outputs": [
        {
          "output_type": "execute_result",
          "data": {
            "text/plain": [
              "array([[1001, 1002, 1003],\n",
              "       [1004, 1005, 1006],\n",
              "       [1007, 1008, 1009]])"
            ]
          },
          "metadata": {
            "tags": []
          },
          "execution_count": 21
        }
      ]
    },
    {
      "cell_type": "code",
      "metadata": {
        "id": "-3WmYRmJw4v5"
      },
      "source": [
        "# another way to define a function\n",
        "def add_1000(i):\n",
        "   i=i+1000\n",
        "   return i\n"
      ],
      "execution_count": null,
      "outputs": []
    },
    {
      "cell_type": "markdown",
      "metadata": {
        "id": "JqJh8iO2ktwP"
      },
      "source": [
        "#### Discusion\n",
        "A lambda function is a small anonymous function. A lambda function can take any number of arguments, but can only have one expression.\n",
        "NumPy’s vectorize class converts a function into a function that can apply to all elements in an array or slice of an array. It’s worth noting that vectorize is essentially a for loop over the elements and does not increase performance. Furthermore, NumPy arrays allow us to perform operations between arrays even if their dimensions are not the same (a process called broadcasting). For example, we can create a much simpler version of our solution using broadcasting:"
      ]
    },
    {
      "cell_type": "code",
      "metadata": {
        "colab": {
          "base_uri": "https://localhost:8080/"
        },
        "id": "DriISFF-ktwP",
        "outputId": "b072b138-6001-4f04-c170-43afbf21ea34"
      },
      "source": [
        "# add 1000 to all elements\n",
        "matrix + 1000"
      ],
      "execution_count": null,
      "outputs": [
        {
          "output_type": "execute_result",
          "data": {
            "text/plain": [
              "array([[1001, 1002, 1003],\n",
              "       [1004, 1005, 1006],\n",
              "       [1007, 1008, 1009]])"
            ]
          },
          "metadata": {
            "tags": []
          },
          "execution_count": 23
        }
      ]
    },
    {
      "cell_type": "markdown",
      "metadata": {
        "id": "DvQpKx6iktwR"
      },
      "source": [
        "### Finding Maximum and Minimum Values\n",
        "#### Problem\n",
        "You need to find the maximum or minimum value in an array.\n",
        "\n",
        "#### Solution\n",
        "Use NumPy's max and min:"
      ]
    },
    {
      "cell_type": "code",
      "metadata": {
        "colab": {
          "base_uri": "https://localhost:8080/"
        },
        "id": "eE2uI7G_ktwS",
        "outputId": "da609117-1496-4574-da82-1e3dfacf219e"
      },
      "source": [
        "# load library\n",
        "import numpy as np\n",
        "\n",
        "# create matrix\n",
        "matrix = np.array([[1, 200, 3],\n",
        "                   [4, 5, 6],\n",
        "                   [7, 20, 9]])\n",
        "\n",
        "# rreturn maximum element\n",
        "np.max(matrix)"
      ],
      "execution_count": null,
      "outputs": [
        {
          "output_type": "execute_result",
          "data": {
            "text/plain": [
              "200"
            ]
          },
          "metadata": {},
          "execution_count": 12
        }
      ]
    },
    {
      "cell_type": "code",
      "metadata": {
        "id": "dcjNixvrktwU",
        "colab": {
          "base_uri": "https://localhost:8080/"
        },
        "outputId": "5b34d78e-d9b3-4ba1-b2e3-dc035eb75d2f"
      },
      "source": [
        "# return minimum element\n",
        "np.min(matrix)\n"
      ],
      "execution_count": null,
      "outputs": [
        {
          "output_type": "execute_result",
          "data": {
            "text/plain": [
              "1"
            ]
          },
          "metadata": {},
          "execution_count": 9
        }
      ]
    },
    {
      "cell_type": "markdown",
      "metadata": {
        "id": "fM2jfAZPktwX"
      },
      "source": [
        "#### Discussion\n",
        "Often we want to know the maximum and minimum value in an array or subset of an array. This can be accomplished with the max and min methods. Using the axis parameter we can also apply the operation along a certain axis:"
      ]
    },
    {
      "cell_type": "code",
      "metadata": {
        "colab": {
          "base_uri": "https://localhost:8080/"
        },
        "id": "OrdRnWZgktwX",
        "outputId": "0b04f762-108b-4a31-d66e-dd0bab1499b2"
      },
      "source": [
        "# find maximum element in each column\n",
        "np.max(matrix, axis=0)"
      ],
      "execution_count": null,
      "outputs": [
        {
          "output_type": "execute_result",
          "data": {
            "text/plain": [
              "array([7, 8, 9])"
            ]
          },
          "metadata": {
            "tags": []
          },
          "execution_count": 26
        }
      ]
    },
    {
      "cell_type": "code",
      "metadata": {
        "colab": {
          "base_uri": "https://localhost:8080/"
        },
        "id": "Uk9Us8wJktwa",
        "outputId": "321ef3b1-447a-414c-e885-11d5d3ff3bc4"
      },
      "source": [
        "# find maximum element in each row\n",
        "np.max(matrix, axis=1)"
      ],
      "execution_count": null,
      "outputs": [
        {
          "output_type": "execute_result",
          "data": {
            "text/plain": [
              "array([3, 6, 9])"
            ]
          },
          "metadata": {
            "tags": []
          },
          "execution_count": 27
        }
      ]
    },
    {
      "cell_type": "markdown",
      "metadata": {
        "id": "5NvWJEsDktwe"
      },
      "source": [
        "# Unsolved Tutorial sheet\n",
        "### 1.8 Calculating the Average, Variance, and Standard Deviation\n",
        "\n",
        "#### Problem\n",
        "You want to calculate some descriptive statistics about an array.\n",
        "\n",
        "#### Solution\n",
        "Use NumPy's mean, var, and std:"
      ]
    },
    {
      "cell_type": "code",
      "metadata": {
        "id": "wbdJtriBktwf",
        "colab": {
          "base_uri": "https://localhost:8080/"
        },
        "outputId": "99647fb2-8940-45ae-a7c2-57f19a6f5ec6"
      },
      "source": [
        "# load library\n",
        "import numpy as np\n",
        "\n",
        "# create matrix\n",
        "matrix = np.array([[1, 2, 3],\n",
        "                   [4, 5, 6],\n",
        "                   [7, 8, 9]])\n",
        "\n",
        "# return mean\n",
        "np.mean(matrix)\n"
      ],
      "execution_count": null,
      "outputs": [
        {
          "output_type": "execute_result",
          "data": {
            "text/plain": [
              "5.0"
            ]
          },
          "metadata": {},
          "execution_count": 12
        }
      ]
    },
    {
      "cell_type": "code",
      "metadata": {
        "id": "hNGLx2f7ktwh",
        "colab": {
          "base_uri": "https://localhost:8080/"
        },
        "outputId": "e95a0bc4-42a0-4e99-8cfe-1a8e50c0b876"
      },
      "source": [
        "# return variance\n",
        "np.var(matrix)\n"
      ],
      "execution_count": null,
      "outputs": [
        {
          "output_type": "execute_result",
          "data": {
            "text/plain": [
              "6.666666666666667"
            ]
          },
          "metadata": {},
          "execution_count": 15
        }
      ]
    },
    {
      "cell_type": "code",
      "metadata": {
        "id": "iX2AbSVYktwj",
        "colab": {
          "base_uri": "https://localhost:8080/"
        },
        "outputId": "02dc72b2-17c0-4054-b06e-e583f59bb254"
      },
      "source": [
        "# return standard deviation\n",
        "np.std(matrix)\n"
      ],
      "execution_count": null,
      "outputs": [
        {
          "output_type": "execute_result",
          "data": {
            "text/plain": [
              "2.581988897471611"
            ]
          },
          "metadata": {},
          "execution_count": 16
        }
      ]
    },
    {
      "cell_type": "markdown",
      "metadata": {
        "id": "0lKoAN8Vktwl"
      },
      "source": [
        "#### Discussion\n",
        "Just like with max and min, we can easily get descriptive statistics about the whole matrix or do calculations alon a single axis:"
      ]
    },
    {
      "cell_type": "code",
      "metadata": {
        "id": "_ElxYr2Dktwl",
        "colab": {
          "base_uri": "https://localhost:8080/"
        },
        "outputId": "2e2a2062-3fc1-433d-bfe4-1cda0020e987"
      },
      "source": [
        "# find the mean value in each column\n",
        "np.mean(matrix, axis=0)\n"
      ],
      "execution_count": null,
      "outputs": [
        {
          "output_type": "execute_result",
          "data": {
            "text/plain": [
              "array([4., 5., 6.])"
            ]
          },
          "metadata": {},
          "execution_count": 17
        }
      ]
    },
    {
      "cell_type": "markdown",
      "metadata": {
        "id": "qN1J2vtEktwo"
      },
      "source": [
        "### 1.9 Reshaping Arrays\n",
        "#### Problem\n",
        "You want to change the shape (number of rows and columns) of an array without changing the element values.\n",
        "\n",
        "#### Solution\n",
        "Use NumPy's reshape:"
      ]
    },
    {
      "cell_type": "code",
      "metadata": {
        "id": "QSeOKXB4ktwo",
        "colab": {
          "base_uri": "https://localhost:8080/"
        },
        "outputId": "f0c17800-dee4-4f5f-dac9-fc4a0a80924d"
      },
      "source": [
        "# load library\n",
        "import numpy as np\n",
        "\n",
        "# create 4x3 matrix\n",
        "matrix = np.array([[1, 2, 3],\n",
        "                   [4, 5, 6],\n",
        "                   [7, 8, 9],\n",
        "                   [10, 11, 12]])\n",
        "\n",
        "# reshape matrix into 2x6 matrix\n",
        "new_matrix = matrix.reshape(2,6)\n",
        "print(new_matrix)\n"
      ],
      "execution_count": null,
      "outputs": [
        {
          "output_type": "stream",
          "name": "stdout",
          "text": [
            "[[ 1  2  3  4  5  6]\n",
            " [ 7  8  9 10 11 12]]\n"
          ]
        }
      ]
    },
    {
      "cell_type": "markdown",
      "metadata": {
        "id": "1_Wg2dsVktwr"
      },
      "source": [
        "#### Discussion\n",
        "reshape allows us to restructure an array so that we maintain the same data but it is organized as a different number of rows and columns. The only requirement is that the shape of the original and new matrix contain the same number of elements (i.e., the same size). We can see the size of a matrix using size:"
      ]
    },
    {
      "cell_type": "code",
      "metadata": {
        "id": "K-nsj60Cktws",
        "colab": {
          "base_uri": "https://localhost:8080/"
        },
        "outputId": "749391fb-8fa4-4dad-fbb9-b64f8e9120c7"
      },
      "source": [
        "matrix.size"
      ],
      "execution_count": null,
      "outputs": [
        {
          "output_type": "execute_result",
          "data": {
            "text/plain": [
              "12"
            ]
          },
          "metadata": {},
          "execution_count": 22
        }
      ]
    },
    {
      "cell_type": "markdown",
      "metadata": {
        "id": "OUecur4rktwu"
      },
      "source": [
        "One useful argument in reshape is -1, which effectively means “as many as needed,” so reshape(-1, 1) means one row and as many columns as needed:"
      ]
    },
    {
      "cell_type": "code",
      "metadata": {
        "id": "nTt8rhYaktwv",
        "colab": {
          "base_uri": "https://localhost:8080/"
        },
        "outputId": "2c4dcf55-69a4-42d8-c169-a8d55905ab53"
      },
      "source": [
        "matrix.reshape(1, -1)"
      ],
      "execution_count": null,
      "outputs": [
        {
          "output_type": "execute_result",
          "data": {
            "text/plain": [
              "array([[ 1,  2,  3,  4,  5,  6,  7,  8,  9, 10, 11, 12]])"
            ]
          },
          "metadata": {},
          "execution_count": 21
        }
      ]
    },
    {
      "cell_type": "markdown",
      "metadata": {
        "id": "3q65wzdUktwx"
      },
      "source": [
        "Finally, if we provide one integer, reshape will return a 1D array of that length:"
      ]
    },
    {
      "cell_type": "code",
      "metadata": {
        "id": "ZusskbGlktwx",
        "colab": {
          "base_uri": "https://localhost:8080/"
        },
        "outputId": "d4ec7041-712a-4278-ba71-e5487b080f43"
      },
      "source": [
        "matrix.reshape(12)"
      ],
      "execution_count": null,
      "outputs": [
        {
          "output_type": "execute_result",
          "data": {
            "text/plain": [
              "array([ 1,  2,  3,  4,  5,  6,  7,  8,  9, 10, 11, 12])"
            ]
          },
          "metadata": {},
          "execution_count": 23
        }
      ]
    },
    {
      "cell_type": "markdown",
      "metadata": {
        "id": "Oy36CebTX1s5"
      },
      "source": [
        "### 2.0 Introduction to Linear Algebra\n",
        "#### Problem\n",
        "You want to calculate eigenvalues and eigenvectors of a given matrix.\n",
        "\n",
        "#### Solution\n",
        "Use NumPy's eig from linear algebra"
      ]
    },
    {
      "cell_type": "code",
      "metadata": {
        "colab": {
          "base_uri": "https://localhost:8080/"
        },
        "id": "NlH2kbf5VJx_",
        "outputId": "326babde-5a1b-42fb-c94e-d284b687ffd3"
      },
      "source": [
        "from numpy import linalg\n",
        "A= np.array([[5, 3], [-6, -4]])\n",
        "A"
      ],
      "execution_count": null,
      "outputs": [
        {
          "output_type": "execute_result",
          "data": {
            "text/plain": [
              "array([[ 5,  3],\n",
              "       [-6, -4]])"
            ]
          },
          "metadata": {},
          "execution_count": 24
        }
      ]
    },
    {
      "cell_type": "code",
      "metadata": {
        "id": "BodeJ5kSZcKY",
        "colab": {
          "base_uri": "https://localhost:8080/"
        },
        "outputId": "416ac336-95d4-49ab-8bcf-0380daad0a14"
      },
      "source": [
        "#Write command to find and print eigenvalues and eigenvectors of mtarix A\n",
        "w, v = np.linalg.eig(A)\n",
        "\n",
        "print(w)\n",
        "print(v)"
      ],
      "execution_count": null,
      "outputs": [
        {
          "output_type": "stream",
          "name": "stdout",
          "text": [
            "[ 2. -1.]\n",
            "[[ 0.70710678 -0.4472136 ]\n",
            " [-0.70710678  0.89442719]]\n"
          ]
        }
      ]
    },
    {
      "cell_type": "markdown",
      "metadata": {
        "id": "yggtefIjZG_T"
      },
      "source": [
        "#### Problem\n",
        "You want to find inverse of a given matrix.\n",
        "\n",
        "#### Solution\n",
        "Use NumPy's inv from linear algebra"
      ]
    },
    {
      "cell_type": "code",
      "metadata": {
        "id": "zdteuWR0Zq1L",
        "colab": {
          "base_uri": "https://localhost:8080/"
        },
        "outputId": "a2525ccd-0f07-47ac-c7e8-8e3693cf81b5"
      },
      "source": [
        "#Write command to find and print inverse of mtarix A\n",
        "print(np.linalg.inv(A))"
      ],
      "execution_count": null,
      "outputs": [
        {
          "output_type": "stream",
          "name": "stdout",
          "text": [
            "[[ 2.   1.5]\n",
            " [-3.  -2.5]]\n"
          ]
        }
      ]
    },
    {
      "cell_type": "markdown",
      "metadata": {
        "id": "Me3Wyyl3aZ_X"
      },
      "source": [
        "For more on Linear Algebra functions from numpy\n",
        "https://numpy.org/doc/stable/reference/routines.linalg.html"
      ]
    },
    {
      "cell_type": "markdown",
      "metadata": {
        "id": "spESwzSJYJxT"
      },
      "source": [
        "##**Post Lab Excercise**\n",
        "### Prob 1 Write a program to check whether all elements in an array are non zero.\n",
        "\n",
        "### Prob 2 Write a program to create a 2X2 matrix of ones and adding a border around it with zeros.\n",
        "\n",
        "### Prob 3 Write a program to multiply a randomly generated 4X3 size matrix to randomly generated 3X5 size matrix.\n",
        "\n",
        "### Prob 4 Write a program to solve the system of equations x0 + 2 * x1 = 1 and 3 * x0 + 5 * x1 = 2. [Hint: Use np.linalg.solve]"
      ]
    },
    {
      "cell_type": "code",
      "metadata": {
        "id": "fwkVrmgib_L8",
        "colab": {
          "base_uri": "https://localhost:8080/"
        },
        "outputId": "c3f721ed-5dc0-4c9f-a676-960464fcfc34"
      },
      "source": [
        "# 1st question\n",
        "import numpy as NP\n",
        "\n",
        "array1 = NP.array([2,4,6,8])\n",
        "array2 = NP.array([1,3,5,0])\n",
        "\n",
        "print(NP.all(array1))\n",
        "print(NP.all(array2))\n",
        "\n",
        "\n",
        "# 2nd question\n",
        "import numpy as NP\n",
        "x = NP.ones((2,2))\n",
        "print(\"Original array:\")\n",
        "print(x)\n",
        "print(\"0 on the border and 1 inside in the array\")\n",
        "x = NP.pad(x, pad_width=1, mode='constant', constant_values=0)\n",
        "print(x)\n",
        "\n",
        "\n",
        "# 3rd question\n",
        "import numpy as NP\n",
        "x = NP.random.random((4,3))\n",
        "print(\"First matrix:\")\n",
        "print(x)\n",
        "y = NP.random.random((3,5))\n",
        "print(\"Second matrix:\")\n",
        "print(y)\n",
        "z = NP.dot(x, y)\n",
        "print(\"Dot product of two matrices:\")\n",
        "print(z)\n",
        "\n",
        "\n",
        "# 4th question\n",
        "a = NP.array([[1, 2], [3, 5]])\n",
        "b = NP.array([1, 2])\n",
        "x = NP.linalg.solve(a, b)\n",
        "print(x)\n",
        "\n",
        "\n",
        "\n"
      ],
      "execution_count": 3,
      "outputs": [
        {
          "output_type": "stream",
          "name": "stdout",
          "text": [
            "True\n",
            "False\n",
            "Original array:\n",
            "[[1. 1.]\n",
            " [1. 1.]]\n",
            "0 on the border and 1 inside in the array\n",
            "[[0. 0. 0. 0.]\n",
            " [0. 1. 1. 0.]\n",
            " [0. 1. 1. 0.]\n",
            " [0. 0. 0. 0.]]\n",
            "First matrix:\n",
            "[[0.93469243 0.80661688 0.72551724]\n",
            " [0.09656172 0.75951047 0.16825956]\n",
            " [0.12370298 0.75723373 0.59588974]\n",
            " [0.09923053 0.71013492 0.64790081]]\n",
            "Second matrix:\n",
            "[[0.48665838 0.89543769 0.95166135 0.73229211 0.90320051]\n",
            " [0.52082759 0.89038316 0.86435903 0.67730848 0.34493286]\n",
            " [0.92506739 0.83419007 0.72987094 0.73684701 0.60220174]]\n",
            "Dot product of two matrices:\n",
            "[[1.54613657 2.16037619 2.11625119 1.76539156 1.55935108]\n",
            " [0.59821802 0.9030808  0.87119156 0.70911583 0.45052092]\n",
            " [1.00582748 1.28208178 1.20716776 1.04254712 0.73176923]\n",
            " [1.01750114 1.26161936 1.18112937 1.03104992 0.72474093]]\n",
            "[-1.  1.]\n"
          ]
        }
      ]
    }
  ]
}