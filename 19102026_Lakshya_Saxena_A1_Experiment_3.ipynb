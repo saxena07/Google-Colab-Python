{
  "nbformat": 4,
  "nbformat_minor": 0,
  "metadata": {
    "celltoolbar": "Raw Cell Format",
    "kernelspec": {
      "display_name": "Python 3",
      "language": "python",
      "name": "python3"
    },
    "language_info": {
      "codemirror_mode": {
        "name": "ipython",
        "version": 3
      },
      "file_extension": ".py",
      "mimetype": "text/x-python",
      "name": "python",
      "nbconvert_exporter": "python",
      "pygments_lexer": "ipython3",
      "version": "3.8.5"
    },
    "colab": {
      "name": "19102026_Lakshya Saxena_A1_Experiment 3.ipynb",
      "provenance": [],
      "include_colab_link": true
    }
  },
  "cells": [
    {
      "cell_type": "markdown",
      "metadata": {
        "id": "view-in-github",
        "colab_type": "text"
      },
      "source": [
        "<a href=\"https://colab.research.google.com/github/saxena07/Google-Colab-Python/blob/main/19102026_Lakshya_Saxena_A1_Experiment_3.ipynb\" target=\"_parent\"><img src=\"https://colab.research.google.com/assets/colab-badge.svg\" alt=\"Open In Colab\"/></a>"
      ]
    },
    {
      "cell_type": "markdown",
      "metadata": {
        "id": "qNmnNVRRLNa-"
      },
      "source": [
        "## **Experiment 3**\n",
        "## **Aim:** DT Convolution To calculate the convolution sum of two discrete time signals.  [C310.2]     \n",
        " \n"
      ]
    },
    {
      "cell_type": "markdown",
      "metadata": {
        "id": "H-oJ4TqfQfbw"
      },
      "source": [
        "##**Theory:** \n",
        "Convolution is a mathematical operation used to express the relation between input and output of an LTI system. It relates input, output and impulse response of an LTI system.\n",
        "The discrete time convolution of two sequences  can be defined as \n",
        "$x[n]*h[n]$= $\\sum_{k=-\\infty}^{\\infty}x[k]h[n-k]$"
      ]
    },
    {
      "cell_type": "markdown",
      "metadata": {
        "id": "L6FToTYpLNbF"
      },
      "source": [
        "####Problem 1: Compute the  convolution of the following  discrete time sequences\n",
        "x1=([1.0, 2.0, 3.0]) x2=([0.0, 1.0, 0.5,1.0])"
      ]
    },
    {
      "cell_type": "code",
      "metadata": {
        "colab": {
          "base_uri": "https://localhost:8080/",
          "height": 312
        },
        "id": "pdSJwTAtLNbH",
        "outputId": "9b7e007d-c876-45ed-dfed-b51e83771e8e"
      },
      "source": [
        "import matplotlib.pyplot as plt\n",
        "import numpy as np\n",
        "x1=([1.0, 2.0, 3.0])\n",
        "x2=([0.0, 1.0, 0.5,1.0])\n",
        "\n",
        "convolution =np.convolve(x1,x2 )\n",
        "# plotting the convolved signal\n",
        "plt.stem(convolution, use_line_collection = True)\n",
        "# naming the x axis\n",
        "plt.xlabel('n')\n",
        "# naming the y axis\n",
        "plt.ylabel('x1[n]*x2[n]')\n",
        "  \n",
        "# Title to plot\n",
        "plt.title('DT Convolution')\n",
        "plt.show()\n",
        "convolution\n"
      ],
      "execution_count": null,
      "outputs": [
        {
          "output_type": "display_data",
          "data": {
            "image/png": "[encoded data removed]",
            "text/plain": [
              "<Figure size 432x288 with 1 Axes>"
            ]
          },
          "metadata": {
            "tags": [],
            "needs_background": "light"
          }
        },
        {
          "output_type": "execute_result",
          "data": {
            "text/plain": [
              "array([0. , 1. , 2.5, 5. , 3.5, 3. ])"
            ]
          },
          "metadata": {
            "tags": []
          },
          "execution_count": 3
        }
      ]
    },
    {
      "cell_type": "markdown",
      "metadata": {
        "id": "FO-Qo4NbMuPp"
      },
      "source": [
        "####Problem 2: Compute the  convolution of the following  discrete time sequences\n",
        "x1=([-1.0, 2.0, -3.0])\n",
        "x2=([0.0, -1.0, 0.5,1.0])"
      ]
    },
    {
      "cell_type": "code",
      "metadata": {
        "colab": {
          "base_uri": "https://localhost:8080/",
          "height": 312
        },
        "id": "8AqhSV8RLNbM",
        "outputId": "da0f94e0-010e-4bcc-b9a2-8160f0b8737d"
      },
      "source": [
        "import matplotlib.pyplot as plt\n",
        "import numpy as np\n",
        "x1=([-1.0, 2.0, -3.0])\n",
        "x2=([0.0, -1.0, 0.5, 1.0])\n",
        "\n",
        "convolution =np.convolve(x1,x2 )\n",
        "\n",
        "#Setting range of time axis\n",
        "l1 = np.size(x1)\n",
        "l2 = np.size(x2)\n",
        "n=np.arange(0,l1+l2-1,1)\n",
        "\n",
        "# plotting the convolved signal\n",
        "plt.stem(n,convolution, use_line_collection = True)\n",
        "\n",
        "# naming the x axis\n",
        "plt.xlabel('n')\n",
        "# naming the y axis\n",
        "plt.ylabel('x1[n]*x2[n]')\n",
        "  \n",
        "# Title to plo\n",
        "plt.title('DT Convolution')\n",
        "\n",
        "plt.show()\n",
        "\n",
        "convolution"
      ],
      "execution_count": null,
      "outputs": [
        {
          "output_type": "display_data",
          "data": {
            "image/png": "[encoded data removed]",
            "text/plain": [
              "<Figure size 432x288 with 1 Axes>"
            ]
          },
          "metadata": {
            "tags": [],
            "needs_background": "light"
          }
        },
        {
          "output_type": "execute_result",
          "data": {
            "text/plain": [
              "array([ 0. ,  1. , -2.5,  3. ,  0.5, -3. ])"
            ]
          },
          "metadata": {
            "tags": []
          },
          "execution_count": 9
        }
      ]
    },
    {
      "cell_type": "markdown",
      "metadata": {
        "id": "21yMdIeiLNbN"
      },
      "source": [
        "#### Problem 3: Compute the  convolution of the following  discrete time sequences\n",
        "x1[n1]=([-1.0, 2.0, -3.0]), n1 =-1 to 1\n",
        "x2[n2]=([0.0, -1.0, 0.5,1.0]), n2 = ([-2, -1, 0, 1])"
      ]
    },
    {
      "cell_type": "code",
      "metadata": {
        "colab": {
          "base_uri": "https://localhost:8080/",
          "height": 312
        },
        "id": "iGEZggAlLNbP",
        "outputId": "a1a17e05-b135-4666-ae2e-50e7afd3a65a"
      },
      "source": [
        "import matplotlib.pyplot as plt\n",
        "import numpy as np\n",
        "x1=([-1.0, 2.0, -3.0])\n",
        "x2=([0.0, -1.0, 0.5])\n",
        "n1=([-1,0,1])\n",
        "n2=([-2,-1,0,1])\n",
        "\n",
        "convolution =np.convolve(x1,x2 )\n",
        "#Setting range of time axis\n",
        "l1 = np.size(x1)\n",
        "l2 = np.size(x2)\n",
        "n=np.arange(n1[0]+n2[0],n1[-1]+n2[-1],1)\n",
        "\n",
        "# plotting the convolved signal\n",
        "plt.stem(n,convolution, use_line_collection = True)\n",
        "\n",
        "# naming the x axis\n",
        "plt.xlabel('n')\n",
        "# naming the y axis\n",
        "plt.ylabel('x1[n]*x2[n]')\n",
        "  \n",
        "# Title to plot\n",
        "plt.title('DT Convolution')\n",
        "\n",
        "plt.show()\n",
        "convolution"
      ],
      "execution_count": null,
      "outputs": [
        {
          "output_type": "display_data",
          "data": {
            "image/png": "[encoded data removed]",
            "text/plain": [
              "<Figure size 432x288 with 1 Axes>"
            ]
          },
          "metadata": {
            "tags": [],
            "needs_background": "light"
          }
        },
        {
          "output_type": "execute_result",
          "data": {
            "text/plain": [
              "array([ 0. ,  1. , -2.5,  4. , -1.5])"
            ]
          },
          "metadata": {
            "tags": []
          },
          "execution_count": 13
        }
      ]
    },
    {
      "cell_type": "markdown",
      "metadata": {
        "id": "6BDbWFJZoOx_"
      },
      "source": [
        "####Unsolved Problem\n"
      ]
    },
    {
      "cell_type": "code",
      "metadata": {
        "id": "zUZ7D6ULLNbR"
      },
      "source": [
        ""
      ],
      "execution_count": null,
      "outputs": []
    },
    {
      "cell_type": "markdown",
      "metadata": {
        "id": "J5nYTcyISLP9"
      },
      "source": [
        "Problem 3: Compute the convolution of the following discrete time sequences\n",
        "x1[n]=[0,1,0,1,0,1] x2[n]=[1,0,0,0]\n"
      ]
    },
    {
      "cell_type": "markdown",
      "metadata": {
        "id": "_B6G30T5R3Ci"
      },
      "source": [
        ""
      ]
    },
    {
      "cell_type": "code",
      "metadata": {
        "id": "ig1HodaFTO6j",
        "colab": {
          "base_uri": "https://localhost:8080/",
          "height": 313
        },
        "outputId": "111843d5-26d4-4726-a252-1058ef34ea2b"
      },
      "source": [
        "import matplotlib.pyplot as plt\n",
        "import numpy as np\n",
        "x1=([0,1,0,1,0,1])\n",
        "x2=([1,0,0,0])\n",
        "\n",
        "convolution =np.convolve(x1,x2 )\n",
        "\n",
        "#Setting range of time axis\n",
        "l1 = np.size(x1)\n",
        "l2 = np.size(x2)\n",
        "n=np.arange(0,l1+l2-1,1)\n",
        "\n",
        "# plotting the convolved signal\n",
        "plt.stem(n,convolution, use_line_collection = True)\n",
        "\n",
        "# naming the x axis\n",
        "plt.xlabel('n')\n",
        "# naming the y axis\n",
        "plt.ylabel('x1[n]*x2[n]')\n",
        "  \n",
        "# Title to plo\n",
        "plt.title('DT Convolution')\n",
        "\n",
        "plt.show()\n",
        "\n",
        "convolution"
      ],
      "execution_count": null,
      "outputs": [
        {
          "output_type": "display_data",
          "data": {
            "image/png": "[encoded data removed]",
            "text/plain": [
              "<Figure size 432x288 with 1 Axes>"
            ]
          },
          "metadata": {
            "needs_background": "light"
          }
        },
        {
          "output_type": "execute_result",
          "data": {
            "text/plain": [
              "array([0, 1, 0, 1, 0, 1, 0, 0, 0])"
            ]
          },
          "metadata": {},
          "execution_count": 1
        }
      ]
    },
    {
      "cell_type": "markdown",
      "metadata": {
        "id": "B3xtCIECoctK"
      },
      "source": [
        "####PostLab Exercise"
      ]
    },
    {
      "cell_type": "markdown",
      "metadata": {
        "id": "s12OBccCTHdh"
      },
      "source": [
        "Problem 4: Compute the convolution of\n",
        " x1[n]=u[n]-u[n-3] and x2[n]=u[n]-u[n-2]"
      ]
    },
    {
      "cell_type": "code",
      "metadata": {
        "colab": {
          "base_uri": "https://localhost:8080/",
          "height": 313
        },
        "id": "7Vikx38_zb1W",
        "outputId": "8dde3e4e-048a-42c4-882f-c28720330c71"
      },
      "source": [
        "import matplotlib.pyplot as plt\n",
        "import numpy as np\n",
        "x1=([1,1,1])\n",
        "x2=([1,1])\n",
        "\n",
        "convolution =np.convolve(x1,x2 )\n",
        "\n",
        "#Setting range of time axis\n",
        "l1 = np.size(x1)\n",
        "l2 = np.size(x2)\n",
        "n=np.arange(0,l1+l2-1,1)\n",
        "\n",
        "# plotting the convolved signal\n",
        "plt.stem(n,convolution, use_line_collection = True)\n",
        "\n",
        "# naming the x axis\n",
        "plt.xlabel('n')\n",
        "# naming the y axis\n",
        "plt.ylabel(' x1[n]=u[n]-u[n-3]*x2[n]=u[n]-u[n-2]')\n",
        "  \n",
        "# Title to plo\n",
        "plt.title('DT Convolution')\n",
        "\n",
        "plt.show()\n",
        "\n",
        "convolution"
      ],
      "execution_count": null,
      "outputs": [
        {
          "output_type": "display_data",
          "data": {
            "image/png": "[encoded data removed]",
            "text/plain": [
              "<Figure size 432x288 with 1 Axes>"
            ]
          },
          "metadata": {
            "needs_background": "light"
          }
        },
        {
          "output_type": "execute_result",
          "data": {
            "text/plain": [
              "array([1, 2, 2, 1])"
            ]
          },
          "metadata": {},
          "execution_count": 3
        }
      ]
    }
  ]
}