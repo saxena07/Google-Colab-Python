{
  "nbformat": 4,
  "nbformat_minor": 0,
  "metadata": {
    "colab": {
      "name": "MINOR PROJECT 2.ipynb",
      "provenance": [],
      "collapsed_sections": [],
      "authorship_tag": "ABX9TyMY1aevPxJibZ9aSf/rCibP",
      "include_colab_link": true
    },
    "kernelspec": {
      "name": "python3",
      "display_name": "Python 3"
    },
    "language_info": {
      "name": "python"
    },
    "accelerator": "GPU"
  },
  "cells": [
    {
      "cell_type": "markdown",
      "metadata": {
        "id": "view-in-github",
        "colab_type": "text"
      },
      "source": [
        "<a href=\"https://colab.research.google.com/github/saxena07/Google-Colab-Python/blob/main/Multi%20Modal%20Genre%20Classification.ipynb\" target=\"_parent\"><img src=\"https://colab.research.google.com/assets/colab-badge.svg\" alt=\"Open In Colab\"/></a>"
      ]
    },
    {
      "cell_type": "markdown",
      "source": [
        "\n",
        "\n",
        "---\n",
        "\n",
        "\n",
        "**MINOR PROJECT - II**\n",
        "\n",
        "---\n",
        "\n",
        "\n",
        "**Multi-Modal Genre Classification for Movies**\n",
        "\n",
        "---\n",
        "\n",
        "\n",
        "GROUP MEMBERS :\n",
        "\n",
        "1.   NAME1 - LAKSHYA SAXENA | \n",
        "BATCH - A1 | \n",
        "ENROLMENT NO. - 19102026\n",
        "2.   NAME2 - YASHASVI PUNDEER | \n",
        "BATCH - A4 | \n",
        "ENROLMENT NO. - 19102106 \n",
        "\n",
        "---\n",
        "\n"
      ],
      "metadata": {
        "id": "gEX6f5VxCKPv"
      }
    },
    {
      "cell_type": "code",
      "source": [
        "!pip install tmdbsimple\n",
        "!pip install wget\n",
        "!pip install IMDbPY"
      ],
      "metadata": {
        "colab": {
          "base_uri": "https://localhost:8080/"
        },
        "id": "H9fjrfVCt5M8",
        "outputId": "922ced9a-fbde-429f-be7f-4df93b0a2fdf"
      },
      "execution_count": null,
      "outputs": [
        {
          "output_type": "stream",
          "name": "stdout",
          "text": [
            "Looking in indexes: https://pypi.org/simple, https://us-python.pkg.dev/colab-wheels/public/simple/\n",
            "Collecting tmdbsimple\n",
            "  Downloading tmdbsimple-2.9.1-py3-none-any.whl (38 kB)\n",
            "Requirement already satisfied: requests in /usr/local/lib/python3.7/dist-packages (from tmdbsimple) (2.23.0)\n",
            "Requirement already satisfied: urllib3!=1.25.0,!=1.25.1,<1.26,>=1.21.1 in /usr/local/lib/python3.7/dist-packages (from requests->tmdbsimple) (1.24.3)\n",
            "Requirement already satisfied: chardet<4,>=3.0.2 in /usr/local/lib/python3.7/dist-packages (from requests->tmdbsimple) (3.0.4)\n",
            "Requirement already satisfied: certifi>=2017.4.17 in /usr/local/lib/python3.7/dist-packages (from requests->tmdbsimple) (2022.5.18.1)\n",
            "Requirement already satisfied: idna<3,>=2.5 in /usr/local/lib/python3.7/dist-packages (from requests->tmdbsimple) (2.10)\n",
            "Installing collected packages: tmdbsimple\n",
            "Successfully installed tmdbsimple-2.9.1\n",
            "Looking in indexes: https://pypi.org/simple, https://us-python.pkg.dev/colab-wheels/public/simple/\n",
            "Collecting wget\n",
            "  Downloading wget-3.2.zip (10 kB)\n",
            "Building wheels for collected packages: wget\n",
            "  Building wheel for wget (setup.py) ... \u001b[?25l\u001b[?25hdone\n",
            "  Created wheel for wget: filename=wget-3.2-py3-none-any.whl size=9675 sha256=8dfb8e3bae4db207fa881419d52fe762cb6dd34fdc6201a6ee5b9a3fab8e44ed\n",
            "  Stored in directory: /root/.cache/pip/wheels/a1/b6/7c/0e63e34eb06634181c63adacca38b79ff8f35c37e3c13e3c02\n",
            "Successfully built wget\n",
            "Installing collected packages: wget\n",
            "Successfully installed wget-3.2\n",
            "Looking in indexes: https://pypi.org/simple, https://us-python.pkg.dev/colab-wheels/public/simple/\n",
            "Collecting IMDbPY\n",
            "  Downloading IMDbPY-2021.4.18-py3-none-any.whl (298 kB)\n",
            "\u001b[K     |████████████████████████████████| 298 kB 5.3 MB/s \n",
            "\u001b[?25hRequirement already satisfied: lxml in /usr/local/lib/python3.7/dist-packages (from IMDbPY) (4.2.6)\n",
            "Requirement already satisfied: SQLAlchemy in /usr/local/lib/python3.7/dist-packages (from IMDbPY) (1.4.36)\n",
            "Requirement already satisfied: greenlet!=0.4.17 in /usr/local/lib/python3.7/dist-packages (from SQLAlchemy->IMDbPY) (1.1.2)\n",
            "Requirement already satisfied: importlib-metadata in /usr/local/lib/python3.7/dist-packages (from SQLAlchemy->IMDbPY) (4.11.3)\n",
            "Requirement already satisfied: zipp>=0.5 in /usr/local/lib/python3.7/dist-packages (from importlib-metadata->SQLAlchemy->IMDbPY) (3.8.0)\n",
            "Requirement already satisfied: typing-extensions>=3.6.4 in /usr/local/lib/python3.7/dist-packages (from importlib-metadata->SQLAlchemy->IMDbPY) (4.2.0)\n",
            "Installing collected packages: IMDbPY\n",
            "Successfully installed IMDbPY-2021.4.18\n"
          ]
        }
      ]
    },
    {
      "cell_type": "code",
      "source": [
        "import urllib\n",
        "import requests\n",
        "import json\n",
        "import imdb\n",
        "import time\n",
        "import itertools  \n",
        "import wget\n",
        "import os\n",
        "import tmdbsimple as tmdb\n",
        "import numpy as np\n",
        "import random\n",
        "import matplotlib\n",
        "import matplotlib.pyplot as plt\n",
        "%matplotlib inline\n",
        "import seaborn as sns\n",
        "import pickle"
      ],
      "metadata": {
        "id": "WDM38hX8t8pi"
      },
      "execution_count": null,
      "outputs": []
    },
    {
      "cell_type": "code",
      "source": [
        "poster_folder='posters_final/'\n",
        "if poster_folder.split('/')[0] in os.listdir('./'):\n",
        "    print('Folder already exists')\n",
        "else:\n",
        "    os.mkdir('./'+poster_folder)"
      ],
      "metadata": {
        "id": "dljbRFNWuHBs"
      },
      "execution_count": null,
      "outputs": []
    },
    {
      "cell_type": "code",
      "source": [
        "api_key = '1f2f3d4dbfe6e7814fa8eacd42ce24e4' \n",
        "\n",
        "tmdb.API_KEY = api_key \n",
        "search = tmdb.Search() \n",
        "import os.path\n",
        "\n",
        "\n",
        "def grab_poster_tmdb(movie):\n",
        "    \n",
        "    response = search.movie(query=movie)\n",
        "    id=response['results'][0]['id']\n",
        "    movie = tmdb.Movies(id)\n",
        "    posterp=movie.info()['poster_path']\n",
        "    title=movie.info()['original_title']\n",
        "    \n",
        "    url='image.tmdb.org/t/p/original'+posterp\n",
        "    title='_'.join(title.split(' '))\n",
        "    strcmd='wget -O '+poster_folder+title+'.jpg '+url\n",
        "    os.system(strcmd)\n",
        "\n",
        "def get_movie_id_tmdb(movie):\n",
        "    response = search.movie(query=movie)\n",
        "    movie_id=response['results'][0]['id']\n",
        "    return movie_id\n",
        "\n",
        "def get_movie_info_tmdb(movie):\n",
        "    response = search.movie(query=movie)\n",
        "    id=response['results'][0]['id']\n",
        "    movie = tmdb.Movies(id)\n",
        "    info=movie.info()\n",
        "    return info\n",
        "\n",
        "def get_movie_genres_tmdb(movie):\n",
        "    response = search.movie(query=movie)\n",
        "    id=response['results'][0]['id']\n",
        "    movie = tmdb.Movies(id)\n",
        "    genres=movie.info()['genres']\n",
        "    return genres"
      ],
      "metadata": {
        "id": "BcMdjPbjuMai"
      },
      "execution_count": null,
      "outputs": []
    },
    {
      "cell_type": "code",
      "source": [
        "print (get_movie_genres_tmdb(\"The Matrix\"))"
      ],
      "metadata": {
        "colab": {
          "base_uri": "https://localhost:8080/"
        },
        "id": "LkhF15FQuPtm",
        "outputId": "c8619c0a-6caa-4529-acbc-ac25c9cd6d18"
      },
      "execution_count": null,
      "outputs": [
        {
          "output_type": "stream",
          "name": "stdout",
          "text": [
            "[{'id': 878, 'name': 'Science Fiction'}, {'id': 28, 'name': 'Action'}, {'id': 12, 'name': 'Adventure'}]\n"
          ]
        }
      ]
    },
    {
      "cell_type": "code",
      "source": [
        "imbd_object = imdb.IMDb() # by default access the web.\n",
        "\n",
        "# Search for a movie (get a list of Movie objects).\n",
        "results = imbd_object.search_movie('The Matrix')\n",
        "\n",
        "# As this returns a list of all movies containing the word \"The Matrix\", we pick the first element\n",
        "movie = results[0]\n",
        "\n",
        "imbd_object.update(movie)\n",
        "\n",
        "print (\"All the information we can get about this movie from IMDB-\",movie.keys())"
      ],
      "metadata": {
        "colab": {
          "base_uri": "https://localhost:8080/"
        },
        "id": "mFqv-i99uQ1L",
        "outputId": "22312ca8-861c-47f3-b18d-fd6decab259e"
      },
      "execution_count": null,
      "outputs": [
        {
          "output_type": "stream",
          "name": "stdout",
          "text": [
            "All the information we can get about this movie from IMDB- ['title', 'kind', 'year', 'cover url', 'localized title', 'cast', 'genres', 'runtimes', 'countries', 'country codes', 'language codes', 'color info', 'aspect ratio', 'sound mix', 'box office', 'certificates', 'original air date', 'rating', 'votes', 'imdbID', 'plot outline', 'languages', 'directors', 'writers', 'producers', 'composers', 'cinematographers', 'editors', 'editorial department', 'casting directors', 'production designers', 'art directors', 'set decorators', 'costume designers', 'make up department', 'production managers', 'assistant directors', 'art department', 'sound department', 'special effects', 'visual effects', 'stunts', 'camera department', 'animation department', 'casting department', 'costume departmen', 'location management', 'music department', 'script department', 'transportation department', 'miscellaneous', 'akas', 'writer', 'director', 'top 250 rank', 'production companies', 'distributors', 'special effects companies', 'other companies', 'plot', 'synopsis', 'canonical title', 'long imdb title', 'long imdb canonical title', 'smart canonical title', 'smart long imdb canonical title', 'full-size cover url']\n"
          ]
        }
      ]
    },
    {
      "cell_type": "code",
      "source": [
        "print (\"The genres for The Matrix pulled from IMDB are -\",movie['genres'])\n",
        "print (\"The genres for The Matrix pulled from TMDB are -\",get_movie_genres_tmdb(\"The Matrix\"))"
      ],
      "metadata": {
        "colab": {
          "base_uri": "https://localhost:8080/"
        },
        "id": "K6O2SPwHuTOj",
        "outputId": "723db42f-7d62-47d9-80ba-6eab90495950"
      },
      "execution_count": null,
      "outputs": [
        {
          "output_type": "stream",
          "name": "stdout",
          "text": [
            "The genres for The Matrix pulled from IMDB are - ['Action', 'Sci-Fi']\n",
            "The genres for The Matrix pulled from TMDB are - [{'id': 878, 'name': 'Science Fiction'}, {'id': 28, 'name': 'Action'}, {'id': 12, 'name': 'Adventure'}]\n"
          ]
        }
      ]
    },
    {
      "cell_type": "code",
      "source": [
        "# Create a tmdb genre object!\n",
        "genres=tmdb.Genres()\n",
        "# the list() method of the Genres() class returns a listing of all genres in the form of a dictionary.\n",
        "list_of_genres=genres.movie_list()['genres']"
      ],
      "metadata": {
        "id": "fF7gVml6uV3a"
      },
      "execution_count": null,
      "outputs": []
    },
    {
      "cell_type": "code",
      "source": [
        "all_movies=tmdb.Movies()\n",
        "top_movies=all_movies.popular()\n",
        "len(top_movies['results'])\n",
        "top20_movs=top_movies['results']"
      ],
      "metadata": {
        "id": "S5HPFgdfuZ1g"
      },
      "execution_count": null,
      "outputs": []
    },
    {
      "cell_type": "code",
      "source": [
        "all_movies=tmdb.Movies()\n",
        "top1000_movies=[]\n",
        "print('Pulling movie list, Please wait...')\n",
        "for i in range(1,51):\n",
        "    if i%15==0:\n",
        "        time.sleep(7)\n",
        "    movies_on_this_page=all_movies.popular(page=i)['results']\n",
        "    top1000_movies.extend(movies_on_this_page)\n",
        "len(top1000_movies)\n",
        "f3=open('movie_list.pckl','wb')\n",
        "pickle.dump(top1000_movies,f3)\n",
        "f3.close()\n",
        "print('Done!')"
      ],
      "metadata": {
        "colab": {
          "base_uri": "https://localhost:8080/"
        },
        "id": "TwKg-a_1uf8o",
        "outputId": "351b36ba-4dea-4615-ffe5-5dff33619d2d"
      },
      "execution_count": null,
      "outputs": [
        {
          "output_type": "stream",
          "name": "stdout",
          "text": [
            "Pulling movie list, Please wait...\n",
            "Done!\n"
          ]
        }
      ]
    },
    {
      "cell_type": "code",
      "source": [
        "f3=open('movie_list.pckl','rb')\n",
        "top1000_movies=pickle.load(f3)\n",
        "f3.close()"
      ],
      "metadata": {
        "id": "I2oU86gBuiX8"
      },
      "execution_count": null,
      "outputs": []
    },
    {
      "cell_type": "code",
      "source": [
        "Genre_ID_to_name={}\n",
        "for i in range(len(list_of_genres)):\n",
        "    genre_id=list_of_genres[i]['id']\n",
        "    genre_name=list_of_genres[i]['name']\n",
        "    Genre_ID_to_name[genre_id]=genre_name"
      ],
      "metadata": {
        "id": "SkOmETNMvANS"
      },
      "execution_count": null,
      "outputs": []
    },
    {
      "cell_type": "code",
      "source": [
        "def list2pairs(l):\n",
        "    pairs = list(itertools.combinations(l, 2))\n",
        "    for i in l:\n",
        "        pairs.append([i,i])\n",
        "    return pairs"
      ],
      "metadata": {
        "id": "bdxm3yJZujNl"
      },
      "execution_count": null,
      "outputs": []
    },
    {
      "cell_type": "code",
      "source": [
        "allPairs = []\n",
        "for movie in top1000_movies:\n",
        "    allPairs.extend(list2pairs(movie['genre_ids']))\n",
        "    \n",
        "nr_ids = np.unique(allPairs)\n",
        "visGrid = np.zeros((len(nr_ids), len(nr_ids)))\n",
        "for p in allPairs:\n",
        "    visGrid[np.argwhere(nr_ids==p[0]), np.argwhere(nr_ids==p[1])]+=1\n",
        "    if p[1] != p[0]:\n",
        "        visGrid[np.argwhere(nr_ids==p[1]), np.argwhere(nr_ids==p[0])]+=1"
      ],
      "metadata": {
        "id": "zsd6ti-wuovW"
      },
      "execution_count": null,
      "outputs": []
    },
    {
      "cell_type": "code",
      "source": [
        "annot_lookup = []\n",
        "for i in range(len(nr_ids)):\n",
        "    annot_lookup.append(Genre_ID_to_name[nr_ids[i]])\n",
        "\n",
        "sns.heatmap(visGrid, xticklabels=annot_lookup, yticklabels=annot_lookup)"
      ],
      "metadata": {
        "colab": {
          "base_uri": "https://localhost:8080/",
          "height": 349
        },
        "id": "CW6jRjtyurZH",
        "outputId": "7b50f36b-c185-4044-e14b-e81e957b36ae"
      },
      "execution_count": null,
      "outputs": [
        {
          "output_type": "execute_result",
          "data": {
            "text/plain": [
              "<matplotlib.axes._subplots.AxesSubplot at 0x7f898420ae50>"
            ]
          },
          "metadata": {},
          "execution_count": 21
        },
        {
          "output_type": "display_data",
          "data": {
            "text/plain": [
              "<Figure size 432x288 with 2 Axes>"
            ],
            "image/png": "[encoded data removed]"
          },
          "metadata": {
            "needs_background": "light"
          }
        }
      ]
    },
    {
      "cell_type": "code",
      "source": [
        "from sklearn.cluster import SpectralCoclustering\n",
        "model = SpectralCoclustering(n_clusters=5)\n",
        "model.fit(visGrid)\n",
        "fit_data = visGrid[np.argsort(model.row_labels_)]\n",
        "fit_data = fit_data[:, np.argsort(model.column_labels_)]\n",
        "annot_lookup_sorted = []\n",
        "for i in np.argsort(model.row_labels_):\n",
        "    annot_lookup_sorted.append(Genre_ID_to_name[nr_ids[i]])\n",
        "sns.heatmap(fit_data, xticklabels=annot_lookup_sorted, yticklabels=annot_lookup_sorted, annot=False)\n",
        "plt.title(\"After biclustering; rearranged to show biclusters\")\n",
        "plt.show()"
      ],
      "metadata": {
        "colab": {
          "base_uri": "https://localhost:8080/",
          "height": 346
        },
        "id": "WOqPIY1PusPU",
        "outputId": "a19ce86e-0a49-42a1-ee11-e0880d9881b3"
      },
      "execution_count": null,
      "outputs": [
        {
          "output_type": "display_data",
          "data": {
            "text/plain": [
              "<Figure size 432x288 with 2 Axes>"
            ],
            "image/png": "[encoded data removed]"
          },
          "metadata": {
            "needs_background": "light"
          }
        }
      ]
    },
    {
      "cell_type": "code",
      "source": [
        "movies = []\n",
        "baseyear = 2017\n",
        "\n",
        "print('Starting pulling movies from TMDB. If you want to debug, uncomment the print command. This will take a while, please wait...')\n",
        "done_ids=[]\n",
        "for g_id in nr_ids:\n",
        "    #print('Pulling movies for genre ID '+g_id)\n",
        "    baseyear -= 1\n",
        "    for page in range(1,6,1):\n",
        "        time.sleep(0.5)\n",
        "    \n",
        "        url = 'https://api.themoviedb.org/3/discover/movie?api_key=' + api_key\n",
        "        url += '&language=en-US&sort_by=popularity.desc&year=' + str(baseyear) \n",
        "        url += '&with_genres=' + str(g_id) + '&page=' + str(page)\n",
        "\n",
        "        data = urllib.request.urlopen(url).read()\n",
        "\n",
        "        dataDict = json.loads(data)\n",
        "        \n",
        "        movies.extend(dataDict[\"results\"])\n",
        "    done_ids.append(str(g_id))\n",
        "print(\"Pulled movies for genres - \"+','.join(done_ids))"
      ],
      "metadata": {
        "colab": {
          "base_uri": "https://localhost:8080/"
        },
        "id": "54O83pC0vMM3",
        "outputId": "3fc9ce85-2f09-4a69-f905-2f12b5bea64b"
      },
      "execution_count": null,
      "outputs": [
        {
          "output_type": "stream",
          "name": "stdout",
          "text": [
            "Starting pulling movies from TMDB. If you want to debug, uncomment the print command. This will take a while, please wait...\n",
            "Pulled movies for genres - 12,14,16,18,27,28,35,36,37,53,80,99,878,9648,10402,10749,10751,10752,10770\n"
          ]
        }
      ]
    },
    {
      "cell_type": "code",
      "source": [
        "f6=open(\"movies_for_posters\",'wb')\n",
        "pickle.dump(movies,f6)\n",
        "f6.close()"
      ],
      "metadata": {
        "id": "VSewDj-DvOix"
      },
      "execution_count": null,
      "outputs": []
    },
    {
      "cell_type": "code",
      "source": [
        "f6=open(\"movies_for_posters\",'rb')\n",
        "movies=pickle.load(f6)\n",
        "f6.close()"
      ],
      "metadata": {
        "id": "VeigEyIxvPqG"
      },
      "execution_count": null,
      "outputs": []
    },
    {
      "cell_type": "code",
      "source": [
        "movie_ids = [m['id'] for m in movies]\n",
        "print (\"originally we had \",len(movie_ids),\" movies\")\n",
        "movie_ids=np.unique(movie_ids)\n",
        "print (len(movie_ids))\n",
        "seen_before=[]\n",
        "no_duplicate_movies=[]\n",
        "for i in range(len(movies)):\n",
        "    movie=movies[i]\n",
        "    id=movie['id']\n",
        "    if id in seen_before:\n",
        "        continue\n",
        "\n",
        "        print (\"Seen before\")\n",
        "    else:\n",
        "        seen_before.append(id)\n",
        "        no_duplicate_movies.append(movie)\n",
        "print(\"After removing duplicates we have \",len(no_duplicate_movies), \" movies\")"
      ],
      "metadata": {
        "colab": {
          "base_uri": "https://localhost:8080/"
        },
        "id": "VCS3U5O4vR4_",
        "outputId": "9ac7f298-f0d9-4211-b188-a985870839b9"
      },
      "execution_count": null,
      "outputs": [
        {
          "output_type": "stream",
          "name": "stdout",
          "text": [
            "originally we had  1834  movies\n",
            "1697\n",
            "After removing duplicates we have  1697  movies\n"
          ]
        }
      ]
    },
    {
      "cell_type": "code",
      "source": [
        "poster_movies=[]\n",
        "counter=0\n",
        "movies_no_poster=[]\n",
        "print(\"Total movies : \",len(movies))\n",
        "print(\"Started downloading posters...\")\n",
        "for movie in movies:\n",
        "    id=movie['id']\n",
        "    title=movie['title']\n",
        "    if counter==1:\n",
        "        print('Downloaded first. Code is working fine. Please wait, this will take quite some time...')\n",
        "    if counter%300==0 and counter!=0:\n",
        "        print (\"Done with \",counter,\" movies!\")\n",
        "        print(\"Trying to get poster for \",title)\n",
        "    try:\n",
        "        grab_poster_tmdb(title)\n",
        "        poster_movies.append(movie)\n",
        "    except:\n",
        "        try:\n",
        "            time.sleep(7)\n",
        "            grab_poster_tmdb(title)\n",
        "            poster_movies.append(movie)\n",
        "        except:\n",
        "            movies_no_poster.append(movie)\n",
        "    counter+=1\n",
        "print(\"Done with all the posters!\")"
      ],
      "metadata": {
        "colab": {
          "base_uri": "https://localhost:8080/"
        },
        "id": "fXR7SKXBvT7d",
        "outputId": "29bf46fd-7eea-4af7-bdf1-5fddc31cfbe1"
      },
      "execution_count": null,
      "outputs": [
        {
          "output_type": "stream",
          "name": "stdout",
          "text": [
            "Total movies :  1834\n",
            "Started downloading posters...\n",
            "Downloaded first. Code is working fine. Please wait, this will take quite some time...\n",
            "Done with  300  movies!\n",
            "Trying to get poster for  Top Gun\n",
            "Done with  600  movies!\n",
            "Trying to get poster for  Toy Story\n",
            "Done with  900  movies!\n",
            "Trying to get poster for  The Departed\n",
            "Done with  1200  movies!\n",
            "Trying to get poster for  Paycheck\n",
            "Done with  1500  movies!\n",
            "Trying to get poster for  Coyote Ugly\n",
            "Done with  1800  movies!\n",
            "Trying to get poster for  The Staircase\n",
            "Done with all the posters!\n"
          ]
        }
      ]
    },
    {
      "cell_type": "code",
      "source": [
        "f=open('poster_movies.pckl','wb')\n",
        "pickle.dump(poster_movies,f)\n",
        "f.close()"
      ],
      "metadata": {
        "id": "QWqopWUNvY4-"
      },
      "execution_count": null,
      "outputs": []
    },
    {
      "cell_type": "code",
      "source": [
        "f=open('poster_movies.pckl','rb')\n",
        "poster_movies=pickle.load(f)\n",
        "f.close()"
      ],
      "metadata": {
        "id": "5JxOtUIRvZTa"
      },
      "execution_count": null,
      "outputs": []
    },
    {
      "cell_type": "code",
      "source": [
        "f=open('no_poster_movies.pckl','wb')\n",
        "pickle.dump(movies_no_poster,f)\n",
        "f.close()"
      ],
      "metadata": {
        "id": "feXBjo7tvbwb"
      },
      "execution_count": null,
      "outputs": []
    },
    {
      "cell_type": "code",
      "source": [
        "f=open('no_poster_movies.pckl','rb')\n",
        "movies_no_poster=pickle.load(f)\n",
        "f.close()"
      ],
      "metadata": {
        "id": "mIgOEPVHvdRN"
      },
      "execution_count": null,
      "outputs": []
    },
    {
      "cell_type": "code",
      "source": [
        "movies_with_overviews=[]\n",
        "for i in range(len(no_duplicate_movies)):\n",
        "    movie=no_duplicate_movies[i]\n",
        "    id=movie['id']\n",
        "    overview=movie['overview']\n",
        "    \n",
        "    if len(overview)==0:\n",
        "        continue\n",
        "    else:\n",
        "        movies_with_overviews.append(movie)\n",
        "        \n",
        "len(movies_with_overviews)"
      ],
      "metadata": {
        "colab": {
          "base_uri": "https://localhost:8080/"
        },
        "id": "MS_yLU-LvgxV",
        "outputId": "907631d0-7974-4799-b011-9ccc6e47b987"
      },
      "execution_count": null,
      "outputs": [
        {
          "output_type": "execute_result",
          "data": {
            "text/plain": [
              "1685"
            ]
          },
          "metadata": {},
          "execution_count": 32
        }
      ]
    },
    {
      "cell_type": "code",
      "source": [
        "genres=[]\n",
        "all_ids=[]\n",
        "for i in range(len(movies_with_overviews)):\n",
        "    movie=movies_with_overviews[i]\n",
        "    id=movie['id']\n",
        "    genre_ids=movie['genre_ids']\n",
        "    genres.append(genre_ids)\n",
        "    all_ids.extend(genre_ids)"
      ],
      "metadata": {
        "id": "WYLmrxegvntJ"
      },
      "execution_count": null,
      "outputs": []
    },
    {
      "cell_type": "code",
      "source": [
        "from sklearn.preprocessing import MultiLabelBinarizer\n",
        "mlb=MultiLabelBinarizer()\n",
        "Y=mlb.fit_transform(genres)"
      ],
      "metadata": {
        "id": "RWDhC3hZvpJP"
      },
      "execution_count": null,
      "outputs": []
    },
    {
      "cell_type": "code",
      "source": [
        "genres=tmdb.Genres()\n",
        "\n",
        "list_of_genres=genres.movie_list()['genres']\n",
        "Genre_ID_to_name={}\n",
        "for i in range(len(list_of_genres)):\n",
        "    genre_id=list_of_genres[i]['id']\n",
        "    genre_name=list_of_genres[i]['name']\n",
        "    Genre_ID_to_name[genre_id]=genre_name"
      ],
      "metadata": {
        "id": "vqUxGntavrlq"
      },
      "execution_count": null,
      "outputs": []
    },
    {
      "cell_type": "code",
      "source": [
        "Genre_ID_to_name[10769]=\"Foreign\""
      ],
      "metadata": {
        "id": "wze94fORvvOO"
      },
      "execution_count": null,
      "outputs": []
    },
    {
      "cell_type": "code",
      "source": [
        "from sklearn.feature_extraction.text import CountVectorizer\n",
        "import re"
      ],
      "metadata": {
        "id": "oT6mPhRQvx6T"
      },
      "execution_count": null,
      "outputs": []
    },
    {
      "cell_type": "code",
      "source": [
        "content=[]\n",
        "for i in range(len(movies_with_overviews)):\n",
        "    movie=movies_with_overviews[i]\n",
        "    id=movie['id']\n",
        "    overview=movie['overview']\n",
        "    overview=overview.replace(',','')\n",
        "    overview=overview.replace('.','')\n",
        "    content.append(overview)"
      ],
      "metadata": {
        "id": "V7IHIITvvzN4"
      },
      "execution_count": null,
      "outputs": []
    },
    {
      "cell_type": "code",
      "source": [
        "vectorize=CountVectorizer(max_df=0.95, min_df=0.005)\n",
        "X=vectorize.fit_transform(content)"
      ],
      "metadata": {
        "id": "C70O1-Uiv1SI"
      },
      "execution_count": null,
      "outputs": []
    },
    {
      "cell_type": "code",
      "source": [
        "import pickle\n",
        "f4=open('X.pckl','wb')\n",
        "f5=open('Y.pckl','wb')\n",
        "pickle.dump(X,f4)\n",
        "pickle.dump(Y,f5)\n",
        "f6=open('Genredict.pckl','wb')\n",
        "pickle.dump(Genre_ID_to_name,f6)\n",
        "f4.close()\n",
        "f5.close()\n",
        "f6.close()"
      ],
      "metadata": {
        "id": "pg0iUWOIv3Hn"
      },
      "execution_count": null,
      "outputs": []
    },
    {
      "cell_type": "markdown",
      "source": [
        "TF IDF Transformer"
      ],
      "metadata": {
        "id": "XG9r-IM9NvV8"
      }
    },
    {
      "cell_type": "code",
      "source": [
        "from sklearn.feature_extraction.text import TfidfTransformer\n",
        "tfidf_transformer = TfidfTransformer()\n",
        "X_tfidf = tfidf_transformer.fit_transform(X)\n",
        "X_tfidf.shape"
      ],
      "metadata": {
        "colab": {
          "base_uri": "https://localhost:8080/"
        },
        "id": "I8GHMHiwv4mp",
        "outputId": "b206a451-cc9a-4eb4-8dce-44231d159bf0"
      },
      "execution_count": null,
      "outputs": [
        {
          "output_type": "execute_result",
          "data": {
            "text/plain": [
              "(1685, 1198)"
            ]
          },
          "metadata": {},
          "execution_count": 41
        }
      ]
    },
    {
      "cell_type": "code",
      "source": [
        "msk = np.random.rand(X_tfidf.shape[0]) < 0.8"
      ],
      "metadata": {
        "id": "JY04-84Iv7FH"
      },
      "execution_count": null,
      "outputs": []
    },
    {
      "cell_type": "code",
      "source": [
        "X_train_tfidf=X_tfidf[msk]\n",
        "X_test_tfidf=X_tfidf[~msk]\n",
        "Y_train=Y[msk]\n",
        "Y_test=Y[~msk]\n",
        "positions=range(len(movies_with_overviews))\n",
        "# print positions\n",
        "test_movies=np.asarray(positions)[~msk]\n",
        "# test_movies"
      ],
      "metadata": {
        "id": "pXVLdN0dv8Nq"
      },
      "execution_count": null,
      "outputs": []
    },
    {
      "cell_type": "markdown",
      "source": [
        "SVC"
      ],
      "metadata": {
        "id": "bCn9-uTUN0ZX"
      }
    },
    {
      "cell_type": "code",
      "source": [
        "from sklearn.multiclass import OneVsRestClassifier\n",
        "from sklearn.svm import SVC\n",
        "from sklearn.model_selection import GridSearchCV\n",
        "from sklearn.metrics import f1_score\n",
        "from sklearn.metrics import make_scorer\n",
        "from sklearn.metrics import classification_report"
      ],
      "metadata": {
        "id": "A5ee3OF3v_ZC"
      },
      "execution_count": null,
      "outputs": []
    },
    {
      "cell_type": "code",
      "source": [
        "parameters = {'kernel':['linear'], 'C':[0.01, 0.1, 1.0]}\n",
        "gridCV = GridSearchCV(SVC(class_weight='balanced'), parameters, scoring=make_scorer(f1_score, average='micro'))\n",
        "classif = OneVsRestClassifier(gridCV)\n",
        "classif.fit(X_train_tfidf, Y_train)"
      ],
      "metadata": {
        "colab": {
          "base_uri": "https://localhost:8080/"
        },
        "id": "eW_2NQF1wAzG",
        "outputId": "58893a84-f847-40dd-8e14-296a202545a0"
      },
      "execution_count": null,
      "outputs": [
        {
          "output_type": "execute_result",
          "data": {
            "text/plain": [
              "OneVsRestClassifier(estimator=GridSearchCV(estimator=SVC(class_weight='balanced'),\n",
              "                                           param_grid={'C': [0.01, 0.1, 1.0],\n",
              "                                                       'kernel': ['linear']},\n",
              "                                           scoring=make_scorer(f1_score, average=micro)))"
            ]
          },
          "metadata": {},
          "execution_count": 45
        }
      ]
    },
    {
      "cell_type": "markdown",
      "source": [
        "CONFUSION MATRIX FOR SVC"
      ],
      "metadata": {
        "id": "sr2UZ1ee4MpW"
      }
    },
    {
      "cell_type": "code",
      "source": [
        "from sklearn.metrics import confusion_matrix\n",
        "\n",
        "#Generate the confusion matrix\n",
        "cf_matrix = confusion_matrix(np.argmax(predstfidf, axis=1), np.argmax(Y_test, axis=1))\n",
        "\n",
        "print(cf_matrix)"
      ],
      "metadata": {
        "colab": {
          "base_uri": "https://localhost:8080/"
        },
        "id": "cBp534lozi5Y",
        "outputId": "f0af81ec-847b-4e6b-b00d-090f87700cd1"
      },
      "execution_count": null,
      "outputs": [
        {
          "output_type": "stream",
          "name": "stdout",
          "text": [
            "[[ 1  0  0  2  2  1  1  1  0  0  1  0  0  0  0  0]\n",
            " [25 15  7  9  1  3  0  0  0  2  1  0  0  0  0  0]\n",
            " [11  3  6  8  2  0  6  0  0  0  3  0  0  0  1  0]\n",
            " [19  5  9 64  7  7  3  2  2  3  2  0  0  0  0  0]\n",
            " [ 0  0  0  0  0  0  0  0  0  0  0  0  0  0  0  0]\n",
            " [13  2  1 10  7  7  1  0  0  1  0  0  0  0  0  0]\n",
            " [ 5  0  0  5  2  1  6  0  0  1  0  0  2  0  0  0]\n",
            " [ 0  0  0  1  0  0  0  0  0  0  2  0  0  0  0  0]\n",
            " [ 0  0  0  0  0  0  0  0  0  0  0  0  0  0  0  0]\n",
            " [ 0  2  0  4  2  1  0  1  0  2  0  0  0  0  0  0]\n",
            " [ 1  0  1  1  1  0  0  1  0  0  7  0  2  0  0  0]\n",
            " [ 2  0  0  0  0  0  0  0  0  0  0  0  0  0  0  0]\n",
            " [ 0  0  0  1  0  0  0  0  0  0  0  0  0  0  0  0]\n",
            " [ 0  1  0  1  1  0  0  0  0  0  0  0  0  0  0  0]\n",
            " [ 0  0  0  0  0  0  0  0  0  0  0  0  0  0  0  0]\n",
            " [ 1  0  0  0  0  0  0  0  0  0  0  0  0  0  0  0]]\n"
          ]
        }
      ]
    },
    {
      "cell_type": "code",
      "source": [
        "import seaborn as sns\n",
        "\n",
        "ax = sns.heatmap(cf_matrix, annot=True, cmap='Blues')\n",
        "\n",
        "ax.set_title('Seaborn Confusion Matrix with labels\\n\\n');\n",
        "ax.set_xlabel('\\nActual Values')\n",
        "ax.set_ylabel('Predicted Values');\n",
        "\n",
        "## Ticket labels - List must be in alphabetical order\n",
        "ax.xaxis.set_ticklabels(['False','True'])\n",
        "ax.yaxis.set_ticklabels(['False','True'])\n",
        "\n",
        "## Display the visualization of the Confusion Matrix.\n",
        "plt.show()"
      ],
      "metadata": {
        "colab": {
          "base_uri": "https://localhost:8080/",
          "height": 337
        },
        "id": "IgJfrIh02cl2",
        "outputId": "ed4c096d-7f94-41ca-911c-d3f72bc033e2"
      },
      "execution_count": null,
      "outputs": [
        {
          "output_type": "display_data",
          "data": {
            "text/plain": [
              "<Figure size 432x288 with 2 Axes>"
            ],
            "image/png": "[encoded data removed]"
          },
          "metadata": {
            "needs_background": "light"
          }
        }
      ]
    },
    {
      "cell_type": "code",
      "source": [
        "predstfidf=classif.predict(X_test_tfidf)\n",
        "print (classification_report(Y_test, predstfidf))"
      ],
      "metadata": {
        "colab": {
          "base_uri": "https://localhost:8080/"
        },
        "id": "m9SMApZPwCz_",
        "outputId": "39a93d52-3049-48f0-f622-d6d1b00dc645"
      },
      "execution_count": null,
      "outputs": [
        {
          "output_type": "stream",
          "name": "stdout",
          "text": [
            "              precision    recall  f1-score   support\n",
            "\n",
            "           0       0.00      0.00      0.00        78\n",
            "           1       0.46      0.53      0.49        55\n",
            "           2       0.44      0.49      0.47        61\n",
            "           3       0.52      0.64      0.57       120\n",
            "           4       0.00      0.00      0.00        40\n",
            "           5       0.55      0.70      0.62        98\n",
            "           6       0.41      0.48      0.44        87\n",
            "           7       0.32      0.34      0.33        35\n",
            "           8       0.50      0.36      0.42        11\n",
            "           9       0.50      0.63      0.56        73\n",
            "          10       0.58      0.60      0.59        48\n",
            "          11       0.62      0.78      0.69        23\n",
            "          12       0.54      0.51      0.52        57\n",
            "          13       0.36      0.43      0.39        30\n",
            "          14       0.74      0.55      0.63        31\n",
            "          15       0.48      0.43      0.45        47\n",
            "          16       0.00      0.00      0.00        70\n",
            "          17       0.56      0.48      0.52        31\n",
            "          18       0.17      0.17      0.17        30\n",
            "\n",
            "   micro avg       0.49      0.44      0.46      1025\n",
            "   macro avg       0.41      0.43      0.41      1025\n",
            "weighted avg       0.40      0.44      0.42      1025\n",
            " samples avg       0.48      0.47      0.44      1025\n",
            "\n"
          ]
        },
        {
          "output_type": "stream",
          "name": "stderr",
          "text": [
            "/usr/local/lib/python3.7/dist-packages/sklearn/metrics/_classification.py:1318: UndefinedMetricWarning: Precision and F-score are ill-defined and being set to 0.0 in labels with no predicted samples. Use `zero_division` parameter to control this behavior.\n",
            "  _warn_prf(average, modifier, msg_start, len(result))\n",
            "/usr/local/lib/python3.7/dist-packages/sklearn/metrics/_classification.py:1318: UndefinedMetricWarning: Precision and F-score are ill-defined and being set to 0.0 in samples with no predicted labels. Use `zero_division` parameter to control this behavior.\n",
            "  _warn_prf(average, modifier, msg_start, len(result))\n"
          ]
        }
      ]
    },
    {
      "cell_type": "code",
      "source": [
        "genre_list=sorted(list(Genre_ID_to_name.keys()))"
      ],
      "metadata": {
        "id": "QKk1qnv8wKDy"
      },
      "execution_count": null,
      "outputs": []
    },
    {
      "cell_type": "code",
      "source": [
        "predictions=[]\n",
        "for i in range(X_test_tfidf.shape[0]):\n",
        "    pred_genres=[]\n",
        "    movie_label_scores=predstfidf[i]\n",
        "#     print movie_label_scores\n",
        "    for j in range(19):\n",
        "        #print j\n",
        "        if movie_label_scores[j]!=0:\n",
        "            genre=Genre_ID_to_name[genre_list[j]]\n",
        "            pred_genres.append(genre)\n",
        "    predictions.append(pred_genres)"
      ],
      "metadata": {
        "id": "-PlCS5mFwLVx"
      },
      "execution_count": null,
      "outputs": []
    },
    {
      "cell_type": "code",
      "source": [
        "import pickle\n",
        "f=open('classifer_svc','wb')\n",
        "pickle.dump(classif,f)\n",
        "f.close()"
      ],
      "metadata": {
        "id": "Xs18MVSuwMYs"
      },
      "execution_count": null,
      "outputs": []
    },
    {
      "cell_type": "markdown",
      "source": [
        "PREDICTIONS BY SVC"
      ],
      "metadata": {
        "id": "9DhpYH7t3Zc2"
      }
    },
    {
      "cell_type": "code",
      "source": [
        "for i in range(X_test_tfidf.shape[0]):\n",
        "    if i%50==0 and i!=0:\n",
        "        print('MOVIE: ',movies_with_overviews[i]['title'],'\\tPREDICTION: ',','.join(predictions[i]))"
      ],
      "metadata": {
        "colab": {
          "base_uri": "https://localhost:8080/"
        },
        "id": "5sdOunzTwNyk",
        "outputId": "643fd44e-0e6e-47f7-ee3b-0168d4aedccc"
      },
      "execution_count": null,
      "outputs": [
        {
          "output_type": "stream",
          "name": "stdout",
          "text": [
            "MOVIE:  Alice Through the Looking Glass \tPREDICTION:  Fantasy,Animation,Action,Science Fiction\n",
            "MOVIE:  Coraline \tPREDICTION:  Drama,History,Science Fiction,Foreign\n",
            "MOVIE:  Pom Poko \tPREDICTION:  Drama,Western\n",
            "MOVIE:  Despicable Me 2 \tPREDICTION:  \n",
            "MOVIE:  Buddha 2: The Endless Journey \tPREDICTION:  Animation,Drama\n",
            "MOVIE:  White House Down \tPREDICTION:  Comedy\n"
          ]
        }
      ]
    },
    {
      "cell_type": "markdown",
      "source": [
        "NAIVE BAYES APPROACH"
      ],
      "metadata": {
        "id": "H0NPwTVx3eI6"
      }
    },
    {
      "cell_type": "code",
      "source": [
        "from sklearn.naive_bayes import MultinomialNB\n",
        "classifnb = OneVsRestClassifier(MultinomialNB())\n",
        "classifnb.fit(X[msk].toarray(), Y_train)\n",
        "predsnb=classifnb.predict(X[~msk].toarray())"
      ],
      "metadata": {
        "id": "D-Tmf6dNwPHd"
      },
      "execution_count": null,
      "outputs": []
    },
    {
      "cell_type": "markdown",
      "source": [
        "CONFUSION MATRIX FOR NAIVE BAYES"
      ],
      "metadata": {
        "id": "6geHO1Bn4Kg3"
      }
    },
    {
      "cell_type": "code",
      "source": [
        "from sklearn.metrics import confusion_matrix\n",
        "\n",
        "#Generate the confusion matrix\n",
        "cf_matrix1 = confusion_matrix(np.argmax(predsnb, axis=1), np.argmax(Y_test, axis=1))\n",
        "\n",
        "print(cf_matrix1)"
      ],
      "metadata": {
        "colab": {
          "base_uri": "https://localhost:8080/"
        },
        "id": "vlpnwqA8312V",
        "outputId": "7c85b0f8-8d0b-4a14-ce32-d44b2925205d"
      },
      "execution_count": null,
      "outputs": [
        {
          "output_type": "stream",
          "name": "stdout",
          "text": [
            "[[35 15  7 18  6  3  3  2  0  1  0  3  0  0  0  0  0]\n",
            " [10  5  4  4  0  2  2  0  0  1  0  0  0  0  0  0  0]\n",
            " [ 4  1  1  3  0  0  1  0  0  0  0  0  0  0  0  0  0]\n",
            " [11  3  6 58  4  7  2  1  2  3  0  2  0  0  0  1  0]\n",
            " [ 2  3  0  1  7  1  1  0  0  1  0  0  0  0  0  0  0]\n",
            " [10  0  1 11  3  5  1  0  0  0  0  0  0  0  0  0  0]\n",
            " [ 3  1  2  4  1  1  5  0  0  2  0  0  0  0  0  0  0]\n",
            " [ 0  0  0  1  0  0  0  0  0  0  0  2  0  0  0  0  0]\n",
            " [ 0  0  0  0  1  0  0  0  0  0  0  0  0  0  0  0  0]\n",
            " [ 0  0  0  2  0  0  1  1  0  1  0  0  0  0  0  0  0]\n",
            " [ 0  0  0  0  0  1  0  0  0  0  0  0  0  0  0  0  0]\n",
            " [ 1  0  3  2  2  0  0  1  0  0  0  9  0  4  0  0  0]\n",
            " [ 1  0  0  0  0  0  0  0  0  0  0  0  0  0  0  0  0]\n",
            " [ 0  0  0  1  0  0  1  0  0  0  0  0  0  0  0  0  0]\n",
            " [ 1  0  0  0  0  0  0  0  0  0  0  0  0  0  0  0  0]\n",
            " [ 0  0  0  1  0  0  0  0  0  0  0  0  0  0  0  0  0]\n",
            " [ 0  0  0  0  1  0  0  0  0  0  0  0  0  0  0  0  0]]\n"
          ]
        }
      ]
    },
    {
      "cell_type": "code",
      "source": [
        "import seaborn as sns\n",
        "\n",
        "ax = sns.heatmap(cf_matrix1, annot=True, cmap='Blues')\n",
        "\n",
        "ax.set_title('Seaborn Confusion Matrix with labels\\n\\n');\n",
        "ax.set_xlabel('\\nActual Values')\n",
        "ax.set_ylabel('Predicted Values');\n",
        "\n",
        "## Ticket labels - List must be in alphabetical order\n",
        "ax.xaxis.set_ticklabels(['False','True'])\n",
        "ax.yaxis.set_ticklabels(['False','True'])\n",
        "\n",
        "## Display the visualization of the Confusion Matrix.\n",
        "plt.show()"
      ],
      "metadata": {
        "colab": {
          "base_uri": "https://localhost:8080/",
          "height": 337
        },
        "id": "CwNR1Mxf3-Qx",
        "outputId": "034b9070-b505-423d-f09e-e1bed7a6294f"
      },
      "execution_count": null,
      "outputs": [
        {
          "output_type": "display_data",
          "data": {
            "text/plain": [
              "<Figure size 432x288 with 2 Axes>"
            ],
            "image/png": "[encoded data removed]"
          },
          "metadata": {
            "needs_background": "light"
          }
        }
      ]
    },
    {
      "cell_type": "code",
      "source": [
        "import pickle\n",
        "f2=open('classifer_nb','wb')\n",
        "pickle.dump(classifnb,f2)\n",
        "f2.close()"
      ],
      "metadata": {
        "id": "PPLCtr0hwQoI"
      },
      "execution_count": null,
      "outputs": []
    },
    {
      "cell_type": "code",
      "source": [
        "predictionsnb=[]\n",
        "for i in range(X_test_tfidf.shape[0]):\n",
        "    pred_genres=[]\n",
        "    movie_label_scores=predsnb[i]\n",
        "    for j in range(19):\n",
        "        #print j\n",
        "        if movie_label_scores[j]!=0:\n",
        "            genre=Genre_ID_to_name[genre_list[j]]\n",
        "            pred_genres.append(genre)\n",
        "    predictionsnb.append(pred_genres)"
      ],
      "metadata": {
        "id": "gOHMdoHpwTRk"
      },
      "execution_count": null,
      "outputs": []
    },
    {
      "cell_type": "markdown",
      "source": [
        "PREDICTIONS BY NAIVE BAYES\n"
      ],
      "metadata": {
        "id": "5NuvE9pKSyH0"
      }
    },
    {
      "cell_type": "code",
      "source": [
        "for i in range(X_test_tfidf.shape[0]):\n",
        "    if i%50==0 and i!=0:\n",
        "        print ('MOVIE: ',movies_with_overviews[i]['title'],'\\tPREDICTION: ',','.join(predictionsnb[i]))"
      ],
      "metadata": {
        "colab": {
          "base_uri": "https://localhost:8080/"
        },
        "id": "Lj2WtXBswUok",
        "outputId": "2b8034b0-2265-4775-e3b2-2b7f334fe8d9"
      },
      "execution_count": null,
      "outputs": [
        {
          "output_type": "stream",
          "name": "stdout",
          "text": [
            "MOVIE:  Alice Through the Looking Glass \tPREDICTION:  Adventure,Fantasy,Animation,Action,Family\n",
            "MOVIE:  Coraline \tPREDICTION:  Drama,Action,History,Science Fiction\n",
            "MOVIE:  Pom Poko \tPREDICTION:  \n",
            "MOVIE:  Despicable Me 2 \tPREDICTION:  \n",
            "MOVIE:  Buddha 2: The Endless Journey \tPREDICTION:  Drama,Documentary\n",
            "MOVIE:  White House Down \tPREDICTION:  Comedy\n"
          ]
        }
      ]
    },
    {
      "cell_type": "code",
      "source": [
        "def precision_recall(gt,preds):\n",
        "    TP=0\n",
        "    FP=0\n",
        "    FN=0\n",
        "    for t in gt:\n",
        "        if t in preds:\n",
        "            TP+=1\n",
        "        else:\n",
        "            FN+=1\n",
        "    for p in preds:\n",
        "        if p not in gt:\n",
        "            FP+=1\n",
        "    if TP+FP==0:\n",
        "        precision=0\n",
        "    else:\n",
        "        precision=TP/float(TP+FP)\n",
        "    if TP+FN==0:\n",
        "        recall=0\n",
        "    else:\n",
        "        recall=TP/float(TP+FN)\n",
        "    return precision,recall"
      ],
      "metadata": {
        "id": "CiaN3vBNwWNp"
      },
      "execution_count": null,
      "outputs": []
    },
    {
      "cell_type": "markdown",
      "source": [
        "PRECISION AND RECALL FOR SVC"
      ],
      "metadata": {
        "id": "nDw-6JJy4Sl_"
      }
    },
    {
      "cell_type": "code",
      "source": [
        "precs=[]\n",
        "recs=[]\n",
        "for i in range(len(test_movies)):\n",
        "    if i%1==0:\n",
        "        pos=test_movies[i]\n",
        "        test_movie=movies_with_overviews[pos]\n",
        "        gtids=test_movie['genre_ids']\n",
        "        gt=[]\n",
        "        for g in gtids:\n",
        "            g_name=Genre_ID_to_name[g]\n",
        "            gt.append(g_name)\n",
        "#         print predictions[i],movies_with_overviews[i]['title'],gt\n",
        "        a,b=precision_recall(gt,predictions[i])\n",
        "        precs.append(a)\n",
        "        recs.append(b)\n",
        "print (np.mean(np.asarray(precs)),np.mean(np.asarray(recs)))"
      ],
      "metadata": {
        "colab": {
          "base_uri": "https://localhost:8080/"
        },
        "id": "zPlWpRIZwa-8",
        "outputId": "7d5e621a-40da-448c-a084-0cc739426aa6"
      },
      "execution_count": null,
      "outputs": [
        {
          "output_type": "stream",
          "name": "stdout",
          "text": [
            "0.47815920398009953 0.4584008528784647\n"
          ]
        }
      ]
    },
    {
      "cell_type": "markdown",
      "source": [
        "PRECISION AND RECALL FOR NAIVE BAYES"
      ],
      "metadata": {
        "id": "aLA_8JDAN7_d"
      }
    },
    {
      "cell_type": "code",
      "source": [
        "precs=[]\n",
        "recs=[]\n",
        "for i in range(len(test_movies)):\n",
        "    if i%1==0:\n",
        "        pos=test_movies[i]\n",
        "        test_movie=movies_with_overviews[pos]\n",
        "        gtids=test_movie['genre_ids']\n",
        "        gt=[]\n",
        "        for g in gtids:\n",
        "            g_name=Genre_ID_to_name[g]\n",
        "            gt.append(g_name)\n",
        "#         print predictions[i],movies_with_overviews[i]['title'],gt\n",
        "        a,b=precision_recall(gt,predictionsnb[i])\n",
        "        precs.append(a)\n",
        "        recs.append(b)\n",
        "print (np.mean(np.asarray(precs)),np.mean(np.asarray(recs)))"
      ],
      "metadata": {
        "colab": {
          "base_uri": "https://localhost:8080/"
        },
        "id": "rbvdW0zVwcTS",
        "outputId": "c8964037-f791-4440-9505-ced4c638d1e6"
      },
      "execution_count": null,
      "outputs": [
        {
          "output_type": "stream",
          "name": "stdout",
          "text": [
            "0.4997441364605544 0.5195806680881307\n"
          ]
        }
      ]
    },
    {
      "cell_type": "code",
      "source": [
        "f=open('poster_movies.pckl','rb')\n",
        "poster_movies=pickle.load(f)\n",
        "f.close()"
      ],
      "metadata": {
        "id": "5UMA5e_kwemK"
      },
      "execution_count": null,
      "outputs": []
    },
    {
      "cell_type": "markdown",
      "source": [
        "VGG 16"
      ],
      "metadata": {
        "id": "XXYU_P_j3m0Y"
      }
    },
    {
      "cell_type": "code",
      "source": [
        "from keras.applications.vgg16 import VGG16\n",
        "from keras.preprocessing import image\n",
        "from keras.applications.vgg16 import preprocess_input\n",
        "import numpy as np\n",
        "import pickle\n",
        "model = VGG16(weights='imagenet', include_top=False)"
      ],
      "metadata": {
        "colab": {
          "base_uri": "https://localhost:8080/"
        },
        "id": "1Zfo8ZX2wgxc",
        "outputId": "3e8cc169-6b48-4e5a-977d-c76abaa624eb"
      },
      "execution_count": null,
      "outputs": [
        {
          "output_type": "stream",
          "name": "stdout",
          "text": [
            "Downloading data from https://storage.googleapis.com/tensorflow/keras-applications/vgg16/vgg16_weights_tf_dim_ordering_tf_kernels_notop.h5\n",
            "58892288/58889256 [==============================] - 0s 0us/step\n",
            "58900480/58889256 [==============================] - 0s 0us/step\n"
          ]
        }
      ]
    },
    {
      "cell_type": "code",
      "source": [
        "allnames=os.listdir(poster_folder)\n",
        "imnames=[j for j in allnames if j.endswith('.jpg')]\n",
        "feature_list=[]\n",
        "genre_list=[]\n",
        "file_order=[]\n",
        "print(\"Starting extracting VGG features for scraped images. This will take time, Please be patient...\")\n",
        "print (\"Total images = \",len(imnames))\n",
        "failed_files=[]\n",
        "succesful_files=[]\n",
        "i=0\n",
        "for mov in poster_movies:\n",
        "    i+=1\n",
        "    mov_name=mov['original_title']\n",
        "    mov_name1=mov_name.replace(':','/')\n",
        "    poster_name=mov_name.replace(' ','_')+'.jpg'\n",
        "    #print(poster_name)\n",
        "    if poster_name in imnames:\n",
        "        img_path=poster_folder+poster_name\n",
        "        try:\n",
        "          img = image.load_img(img_path, target_size=(224, 224))\n",
        "          succesful_files.append(poster_name)\n",
        "          x = image.img_to_array(img)\n",
        "          x = np.expand_dims(x, axis=0)\n",
        "          x = preprocess_input(x)\n",
        "          features = model.predict(x)\n",
        "          print (features.shape)\n",
        "          print (model.predict(x))\n",
        "          file_order.append(img_path)\n",
        "          feature_list.append(features)\n",
        "          genre_list.append(mov['genre_ids'])\n",
        "          if np.max(np.asarray(feature_list))==0.0:\n",
        "            print('problematic',i)\n",
        "          if i%250==0 or i==1:\n",
        "            print (\"Working on Image : \",i)\n",
        "        except:\n",
        "            failed_files.append(poster_name)\n",
        "            \n",
        "            continue\n",
        "        \n",
        "    else:\n",
        "        continue\n",
        "print (\"Done with all features, please pickle for future use!\")"
      ],
      "metadata": {
        "id": "fsaglI_FwiEB"
      },
      "execution_count": null,
      "outputs": []
    },
    {
      "cell_type": "code",
      "source": [
        "print (type(feature_list[0]))\n",
        "feature_list[0].shape"
      ],
      "metadata": {
        "colab": {
          "base_uri": "https://localhost:8080/"
        },
        "id": "KSmVZ5pUwovc",
        "outputId": "5dc03735-a96e-4908-d936-7dd72b4d737f"
      },
      "execution_count": null,
      "outputs": [
        {
          "output_type": "stream",
          "name": "stdout",
          "text": [
            "<class 'numpy.ndarray'>\n"
          ]
        },
        {
          "output_type": "execute_result",
          "data": {
            "text/plain": [
              "(1, 7, 7, 512)"
            ]
          },
          "metadata": {},
          "execution_count": 75
        }
      ]
    },
    {
      "cell_type": "code",
      "source": [
        "list_pickled=(feature_list,file_order,failed_files,succesful_files,genre_list)\n",
        "f=open('posters_new_features.pckl','wb')\n",
        "pickle.dump(list_pickled,f)\n",
        "f.close()\n",
        "print(\"Features dumped to pickle file\")"
      ],
      "metadata": {
        "colab": {
          "base_uri": "https://localhost:8080/"
        },
        "id": "7MajXeIawqGy",
        "outputId": "63d70d73-f89e-40d7-931e-199bb990770d"
      },
      "execution_count": null,
      "outputs": [
        {
          "output_type": "stream",
          "name": "stdout",
          "text": [
            "Features dumped to pickle file\n"
          ]
        }
      ]
    },
    {
      "cell_type": "code",
      "source": [
        "f7=open('posters_new_features.pckl','rb')\n",
        "list_pickled=pickle.load(f7)\n",
        "f7.close()"
      ],
      "metadata": {
        "id": "FPgALJj2wsQk"
      },
      "execution_count": null,
      "outputs": []
    },
    {
      "cell_type": "code",
      "source": [
        "(feature_list,files,failed,succesful,genre_list)=list_pickled"
      ],
      "metadata": {
        "id": "uoWxmuTHwtfZ"
      },
      "execution_count": null,
      "outputs": []
    },
    {
      "cell_type": "code",
      "source": [
        "(a,b,c,d)=feature_list[0].shape\n",
        "feature_size=a*b*c*d\n",
        "feature_size"
      ],
      "metadata": {
        "colab": {
          "base_uri": "https://localhost:8080/"
        },
        "id": "NOLv6QL9wvfr",
        "outputId": "65ee6d91-c4a3-47cc-e91d-99690b9083c0"
      },
      "execution_count": null,
      "outputs": [
        {
          "output_type": "execute_result",
          "data": {
            "text/plain": [
              "25088"
            ]
          },
          "metadata": {},
          "execution_count": 79
        }
      ]
    },
    {
      "cell_type": "code",
      "source": [
        "np_features=np.zeros((len(feature_list),feature_size))\n",
        "for i in range(len(feature_list)):\n",
        "    feat=feature_list[i]\n",
        "    reshaped_feat=feat.reshape(1,-1)\n",
        "    np_features[i]=reshaped_feat"
      ],
      "metadata": {
        "id": "VOsqLmLiww2g"
      },
      "execution_count": null,
      "outputs": []
    },
    {
      "cell_type": "code",
      "source": [
        "X=np_features"
      ],
      "metadata": {
        "id": "ucuE5tVWwzGq"
      },
      "execution_count": null,
      "outputs": []
    },
    {
      "cell_type": "code",
      "source": [
        "from sklearn.preprocessing import MultiLabelBinarizer\n",
        "mlb=MultiLabelBinarizer()\n",
        "Y=mlb.fit_transform(genre_list)"
      ],
      "metadata": {
        "id": "AtAtPwqkw0Tp"
      },
      "execution_count": null,
      "outputs": []
    },
    {
      "cell_type": "code",
      "source": [
        "visual_problem_data=(X,Y)\n",
        "f8=open('visual_problem_data_clean.pckl','wb')\n",
        "pickle.dump(visual_problem_data,f8)\n",
        "f8.close()"
      ],
      "metadata": {
        "id": "Yc4rCm5dw131"
      },
      "execution_count": null,
      "outputs": []
    },
    {
      "cell_type": "code",
      "source": [
        "f8=open('visual_problem_data_clean.pckl','rb')\n",
        "visual_features=pickle.load(f8)\n",
        "f8.close()"
      ],
      "metadata": {
        "id": "4ShjiVexw3W2"
      },
      "execution_count": null,
      "outputs": []
    },
    {
      "cell_type": "code",
      "source": [
        "(X,Y)=visual_features"
      ],
      "metadata": {
        "id": "6jyHOy1aw4gK"
      },
      "execution_count": null,
      "outputs": []
    },
    {
      "cell_type": "code",
      "source": [
        "X.shape"
      ],
      "metadata": {
        "colab": {
          "base_uri": "https://localhost:8080/"
        },
        "id": "dOjFD72Rw5js",
        "outputId": "55dd1fe7-eada-42aa-87e5-f9d2ef2a833f"
      },
      "execution_count": null,
      "outputs": [
        {
          "output_type": "execute_result",
          "data": {
            "text/plain": [
              "(1552, 25088)"
            ]
          },
          "metadata": {},
          "execution_count": 86
        }
      ]
    },
    {
      "cell_type": "code",
      "source": [
        "mask = np.random.rand(len(X)) < 0.8"
      ],
      "metadata": {
        "id": "yGqWGC9Sw61c"
      },
      "execution_count": null,
      "outputs": []
    },
    {
      "cell_type": "code",
      "source": [
        "X_train=X[mask]\n",
        "X_test=X[~mask]\n",
        "Y_train=Y[mask]\n",
        "Y_test=Y[~mask]"
      ],
      "metadata": {
        "id": "fFNrukQNw72C"
      },
      "execution_count": null,
      "outputs": []
    },
    {
      "cell_type": "code",
      "source": [
        "X_test.shape\n",
        "Y_test.shape"
      ],
      "metadata": {
        "colab": {
          "base_uri": "https://localhost:8080/"
        },
        "id": "YFOiNuMnw8_3",
        "outputId": "51970d91-43c4-4631-d0c3-0427a1c35965"
      },
      "execution_count": null,
      "outputs": [
        {
          "output_type": "execute_result",
          "data": {
            "text/plain": [
              "(323, 19)"
            ]
          },
          "metadata": {},
          "execution_count": 89
        }
      ]
    },
    {
      "cell_type": "code",
      "source": [
        "from keras.models import Sequential\n",
        "from keras.layers import Dense, Activation\n",
        "from tensorflow.keras import optimizers\n",
        "from tensorflow.keras.losses import BinaryCrossentropy\n",
        "from tensorflow.keras.layers import Dropout\n",
        "\n",
        "model_visual = Sequential([\n",
        "    Dense(4096, input_shape=(25088,)),\n",
        "    Activation('relu'),\n",
        "    Dropout (0.25),\n",
        "    Dense (2048),\n",
        "    Activation ('relu'),\n",
        "    Dropout (0.25),\n",
        "    Dense (1024),\n",
        "    Activation ('relu'),\n",
        "    Dropout (0.25),\n",
        "    Dense(256),\n",
        "    Activation('relu'),\n",
        "    Dropout (0.25),\n",
        "    Dense(19),\n",
        "    Activation('sigmoid'),\n",
        "])\n",
        "\n",
        "\n",
        "model_visual.compile(\n",
        "    optimizer=optimizers.Adam(),\n",
        "    loss=BinaryCrossentropy(),\n",
        "    metrics=['accuracy']\n",
        ")\n",
        "\n",
        "model_visual.summary()"
      ],
      "metadata": {
        "colab": {
          "base_uri": "https://localhost:8080/"
        },
        "id": "NqdcyDSpw_m4",
        "outputId": "c26d693b-1d50-4acb-ae73-831031c4a6d8"
      },
      "execution_count": null,
      "outputs": [
        {
          "output_type": "stream",
          "name": "stdout",
          "text": [
            "Model: \"sequential_16\"\n",
            "_________________________________________________________________\n",
            " Layer (type)                Output Shape              Param #   \n",
            "=================================================================\n",
            " dense_66 (Dense)            (None, 4096)              102764544 \n",
            "                                                                 \n",
            " activation_66 (Activation)  (None, 4096)              0         \n",
            "                                                                 \n",
            " dropout_44 (Dropout)        (None, 4096)              0         \n",
            "                                                                 \n",
            " dense_67 (Dense)            (None, 2048)              8390656   \n",
            "                                                                 \n",
            " activation_67 (Activation)  (None, 2048)              0         \n",
            "                                                                 \n",
            " dropout_45 (Dropout)        (None, 2048)              0         \n",
            "                                                                 \n",
            " dense_68 (Dense)            (None, 1024)              2098176   \n",
            "                                                                 \n",
            " activation_68 (Activation)  (None, 1024)              0         \n",
            "                                                                 \n",
            " dropout_46 (Dropout)        (None, 1024)              0         \n",
            "                                                                 \n",
            " dense_69 (Dense)            (None, 256)               262400    \n",
            "                                                                 \n",
            " activation_69 (Activation)  (None, 256)               0         \n",
            "                                                                 \n",
            " dropout_47 (Dropout)        (None, 256)               0         \n",
            "                                                                 \n",
            " dense_70 (Dense)            (None, 19)                4883      \n",
            "                                                                 \n",
            " activation_70 (Activation)  (None, 19)                0         \n",
            "                                                                 \n",
            "=================================================================\n",
            "Total params: 113,520,659\n",
            "Trainable params: 113,520,659\n",
            "Non-trainable params: 0\n",
            "_________________________________________________________________\n"
          ]
        }
      ]
    },
    {
      "cell_type": "code",
      "source": [
        "history = model_visual.fit(X_train, Y_train, epochs=30, batch_size=512,verbose=1)"
      ],
      "metadata": {
        "colab": {
          "base_uri": "https://localhost:8080/"
        },
        "id": "y_nbewt6xBEM",
        "outputId": "0e21aefe-c200-4b79-bff4-36d3ccd9528d"
      },
      "execution_count": null,
      "outputs": [
        {
          "output_type": "stream",
          "name": "stdout",
          "text": [
            "Epoch 1/30\n",
            "3/3 [==============================] - 1s 88ms/step - loss: 25.9238 - accuracy: 0.0561\n",
            "Epoch 2/30\n",
            "3/3 [==============================] - 0s 67ms/step - loss: 5.2896 - accuracy: 0.1098\n",
            "Epoch 3/30\n",
            "3/3 [==============================] - 0s 66ms/step - loss: 1.3807 - accuracy: 0.0879\n",
            "Epoch 4/30\n",
            "3/3 [==============================] - 0s 66ms/step - loss: 0.7408 - accuracy: 0.0789\n",
            "Epoch 5/30\n",
            "3/3 [==============================] - 0s 67ms/step - loss: 0.5928 - accuracy: 0.0749\n",
            "Epoch 6/30\n",
            "3/3 [==============================] - 0s 67ms/step - loss: 0.5357 - accuracy: 0.1001\n",
            "Epoch 7/30\n",
            "3/3 [==============================] - 0s 68ms/step - loss: 0.5040 - accuracy: 0.1302\n",
            "Epoch 8/30\n",
            "3/3 [==============================] - 0s 67ms/step - loss: 0.4806 - accuracy: 0.1302\n",
            "Epoch 9/30\n",
            "3/3 [==============================] - 0s 65ms/step - loss: 0.4616 - accuracy: 0.1383\n",
            "Epoch 10/30\n",
            "3/3 [==============================] - 0s 68ms/step - loss: 0.4440 - accuracy: 0.1611\n",
            "Epoch 11/30\n",
            "3/3 [==============================] - 0s 68ms/step - loss: 0.4293 - accuracy: 0.1741\n",
            "Epoch 12/30\n",
            "3/3 [==============================] - 0s 66ms/step - loss: 0.4175 - accuracy: 0.2010\n",
            "Epoch 13/30\n",
            "3/3 [==============================] - 0s 70ms/step - loss: 0.4049 - accuracy: 0.2221\n",
            "Epoch 14/30\n",
            "3/3 [==============================] - 0s 68ms/step - loss: 0.3943 - accuracy: 0.2360\n",
            "Epoch 15/30\n",
            "3/3 [==============================] - 0s 69ms/step - loss: 0.3844 - accuracy: 0.2238\n",
            "Epoch 16/30\n",
            "3/3 [==============================] - 0s 67ms/step - loss: 0.3697 - accuracy: 0.2661\n",
            "Epoch 17/30\n",
            "3/3 [==============================] - 0s 69ms/step - loss: 0.3587 - accuracy: 0.2620\n",
            "Epoch 18/30\n",
            "3/3 [==============================] - 0s 68ms/step - loss: 0.3467 - accuracy: 0.2474\n",
            "Epoch 19/30\n",
            "3/3 [==============================] - 0s 68ms/step - loss: 0.3361 - accuracy: 0.2587\n",
            "Epoch 20/30\n",
            "3/3 [==============================] - 0s 69ms/step - loss: 0.3199 - accuracy: 0.2791\n",
            "Epoch 21/30\n",
            "3/3 [==============================] - 0s 67ms/step - loss: 0.3128 - accuracy: 0.2921\n",
            "Epoch 22/30\n",
            "3/3 [==============================] - 0s 65ms/step - loss: 0.2979 - accuracy: 0.2921\n",
            "Epoch 23/30\n",
            "3/3 [==============================] - 0s 66ms/step - loss: 0.2882 - accuracy: 0.2880\n",
            "Epoch 24/30\n",
            "3/3 [==============================] - 0s 69ms/step - loss: 0.2819 - accuracy: 0.3002\n",
            "Epoch 25/30\n",
            "3/3 [==============================] - 0s 66ms/step - loss: 0.2707 - accuracy: 0.3222\n",
            "Epoch 26/30\n",
            "3/3 [==============================] - 0s 65ms/step - loss: 0.2619 - accuracy: 0.2978\n",
            "Epoch 27/30\n",
            "3/3 [==============================] - 0s 67ms/step - loss: 0.2554 - accuracy: 0.3360\n",
            "Epoch 28/30\n",
            "3/3 [==============================] - 0s 64ms/step - loss: 0.2418 - accuracy: 0.3336\n",
            "Epoch 29/30\n",
            "3/3 [==============================] - 0s 68ms/step - loss: 0.2310 - accuracy: 0.3621\n",
            "Epoch 30/30\n",
            "3/3 [==============================] - 0s 63ms/step - loss: 0.2204 - accuracy: 0.3450\n"
          ]
        }
      ]
    },
    {
      "cell_type": "markdown",
      "source": [
        "ACCURACY PLOT FOR VGG16"
      ],
      "metadata": {
        "id": "uFAK2b_P8TZx"
      }
    },
    {
      "cell_type": "code",
      "source": [
        "plt.plot (history.history['accuracy'])\n",
        "plt.show ()"
      ],
      "metadata": {
        "colab": {
          "base_uri": "https://localhost:8080/",
          "height": 265
        },
        "id": "v3_wea5D8Nae",
        "outputId": "1503c22e-0dec-4efa-e595-ce5cfbad7ba3"
      },
      "execution_count": null,
      "outputs": [
        {
          "output_type": "display_data",
          "data": {
            "text/plain": [
              "<Figure size 432x288 with 1 Axes>"
            ],
            "image/png": "[encoded data removed]"
          },
          "metadata": {
            "needs_background": "light"
          }
        }
      ]
    },
    {
      "cell_type": "markdown",
      "source": [
        "LOSS PLOT FOR VGG16"
      ],
      "metadata": {
        "id": "IF8XYXUZ8YKu"
      }
    },
    {
      "cell_type": "code",
      "source": [
        "plt.plot (history.history['loss'])\n",
        "plt.show ()"
      ],
      "metadata": {
        "colab": {
          "base_uri": "https://localhost:8080/",
          "height": 265
        },
        "id": "7wpOhBGf8QKj",
        "outputId": "d7cd0174-93f5-48d1-c127-81c77e640d1b"
      },
      "execution_count": null,
      "outputs": [
        {
          "output_type": "display_data",
          "data": {
            "text/plain": [
              "<Figure size 432x288 with 1 Axes>"
            ],
            "image/png": "[encoded data removed]"
          },
          "metadata": {
            "needs_background": "light"
          }
        }
      ]
    },
    {
      "cell_type": "code",
      "source": [
        "Y_preds=model_visual.predict(X_test)\n",
        "print (Y_preds)"
      ],
      "metadata": {
        "id": "0ET_K_dM8cOS",
        "colab": {
          "base_uri": "https://localhost:8080/"
        },
        "outputId": "1037ad5d-e9c3-451a-8e8b-a5e00bd40784"
      },
      "execution_count": null,
      "outputs": [
        {
          "output_type": "stream",
          "name": "stdout",
          "text": [
            "[[0.33935407 0.5562726  0.12419605 ... 0.16171023 0.10897262 0.08905084]\n",
            " [0.9359907  0.81895566 0.42309505 ... 0.13620557 0.01786631 0.01010424]\n",
            " [0.72594553 0.6554284  0.48922762 ... 0.14363192 0.05974807 0.0572685 ]\n",
            " ...\n",
            " [0.18098214 0.11079958 0.05281237 ... 0.11983512 0.25267738 0.33147708]\n",
            " [0.02398099 0.01054727 0.00176611 ... 0.02979014 0.04596116 0.13419233]\n",
            " [0.09953631 0.0327558  0.08472205 ... 0.15403013 0.07261425 0.06899721]]\n"
          ]
        }
      ]
    },
    {
      "cell_type": "code",
      "source": [
        "from google.colab import drive\n",
        "drive.mount ('/content/drive')\n",
        "\n",
        "!cp -r ./* /content/drive/MyDrive"
      ],
      "metadata": {
        "colab": {
          "base_uri": "https://localhost:8080/"
        },
        "id": "KUW0SXWH8j88",
        "outputId": "00ba685c-c9e9-4d1d-edfc-4f3d2b327327"
      },
      "execution_count": null,
      "outputs": [
        {
          "metadata": {
            "tags": null
          },
          "name": "stdout",
          "output_type": "stream",
          "text": [
            "Drive already mounted at /content/drive; to attempt to forcibly remount, call drive.mount(\"/content/drive\", force_remount=True).\n",
            "cp: cannot open './drive/MyDrive/njn-dwhx-tix - Oct 25, 2021.gjam' for reading: Operation not supported\n",
            "cp: cannot create symbolic link '/content/drive/MyDrive/drive/MyDrive/graphic era': Operation not supported\n",
            "cp: cannot open './drive/MyDrive/Project proposal (1).gdoc' for reading: Operation not supported\n",
            "cp: cannot open './drive/MyDrive/Experiment No. 4_Telecom.gdoc' for reading: Operation not supported\n",
            "cp: cannot open './drive/MyDrive/DSA PROJECT-converted.gdoc' for reading: Operation not supported\n",
            "cp: cannot open './drive/MyDrive/NLDSprojKnightTraversal_synopsis.gdoc' for reading: Operation not supported\n",
            "cp: cannot open './drive/MyDrive/Artificial_Intelligence_and_Machine_Learning_Course_Project_Report-2022-04-12-18-31.gdoc' for reading: Operation not supported\n",
            "cp: cannot open './drive/MyDrive/ml project team 19 .gdoc' for reading: Operation not supported\n",
            "cp: cannot open './drive/MyDrive/MINOR PROJECT - II SYNOPSIS.gdoc' for reading: Operation not supported\n",
            "cp: cannot open './drive/MyDrive/MINOR PROJECT - II “Multi-Modal Genre Classification for Movies”.gslides' for reading: Operation not supported\n",
            "cp: cannot open './drive/MyDrive/Untitled document.gdoc' for reading: Operation not supported\n",
            "cp: cannot open './drive/MyDrive/RESUME lakshya saxena.gdoc' for reading: Operation not supported\n",
            "cp: cannot open './drive/MyDrive/Project proposal.gdoc' for reading: Operation not supported\n",
            "cp: cannot open './drive/MyDrive/APS SYNOPSIS on Movie_Recommendation_Project.gdoc' for reading: Operation not supported\n",
            "cp: cannot open './drive/MyDrive/DRONE UAV SECURITY.gdoc' for reading: Operation not supported\n",
            "cp: cannot open './drive/MyDrive/Assignment No. 9_19102026.gdoc' for reading: Operation not supported\n",
            "cp: cannot open './drive/MyDrive/19102026 assignment 10.gdoc' for reading: Operation not supported\n",
            "cp: cannot open './drive/MyDrive/F5_MazeSolver.pdf.PDF.gdoc' for reading: Operation not supported\n",
            "cp: cannot open './drive/MyDrive/Movie_Recommendation_Project_Documentation.gdoc' for reading: Operation not supported\n",
            "cp: cannot open './drive/MyDrive/minor final viva-2.gslides' for reading: Operation not supported\n",
            "cp: cannot open './drive/MyDrive/Untitled presentation.gslides' for reading: Operation not supported\n",
            "cp: cannot open './drive/MyDrive/Marketing Management Project REPORT.gdoc' for reading: Operation not supported\n",
            "cp: cannot open './drive/MyDrive/minor-2 final report.gdoc' for reading: Operation not supported\n",
            "cp: cannot copy a directory, './drive', into itself, '/content/drive/MyDrive/drive'\n"
          ]
        }
      ]
    },
    {
      "cell_type": "markdown",
      "source": [
        "CONFUSION MATRIX FOR VGG16"
      ],
      "metadata": {
        "id": "jtjrg97Y9fHa"
      }
    },
    {
      "cell_type": "code",
      "source": [
        "from sklearn.metrics import confusion_matrix\n",
        "#Generate the confusion matrix\n",
        "cf_matrix2 = confusion_matrix(np.argmax(Y_preds, axis=1), np.argmax(Y_test, axis=1))\n",
        "print(cf_matrix2)"
      ],
      "metadata": {
        "colab": {
          "base_uri": "https://localhost:8080/"
        },
        "id": "UDZExtmn8-NA",
        "outputId": "2b197c81-3d91-48a7-85bc-d1d48085fa32"
      },
      "execution_count": null,
      "outputs": [
        {
          "output_type": "stream",
          "name": "stdout",
          "text": [
            "[[ 5  0  0  1  0  0  0  0  0  0  0  0  0  0  0  0  0]\n",
            " [ 2  3  1  1  1  0  0  0  0  0  0  1  0  0  0  0  0]\n",
            " [17  6  7  0  0  0  0  0  1  0  0  1  0  0  1  0  0]\n",
            " [ 7  4  2 37  7  6  2  2  0  3  0  3  0  0  1  1  0]\n",
            " [ 1  2  0  4  5  0  0  0  0  2  0  2  0  0  1  0  0]\n",
            " [35  4  6 19  8  9  2  0  0  1  0  1  1  0  1  0  0]\n",
            " [ 3  3  1  3  0  1  8  0  1  0  0  0  0  0  0  0  0]\n",
            " [ 0  0  0  0  0  0  0  0  0  0  0  0  0  0  0  0  0]\n",
            " [ 0  0  0  0  0  0  0  0  0  0  0  0  0  0  0  0  0]\n",
            " [ 4  1  1 16  6  2  1  1  0  4  1  2  0  0  1  0  0]\n",
            " [ 0  0  0  1  0  0  0  0  0  0  0  0  0  0  0  0  0]\n",
            " [ 3  0  0  5  1  1  0  0  0  0  0  3  0  0  1  0  0]\n",
            " [ 0  0  0  0  0  0  0  0  0  0  0  0  0  0  0  0  0]\n",
            " [ 0  0  0  1  0  0  0  0  0  0  0  0  0  0  0  0  0]\n",
            " [ 2  0  0  0  0  0  0  0  0  0  0  0  0  0  0  0  0]\n",
            " [ 2  0  0  1  0  0  0  0  0  0  0  0  0  0  0  0  0]\n",
            " [ 4  3  3  3  0  0  1  0  0  0  0  1  0  0  0  0  0]]\n"
          ]
        }
      ]
    },
    {
      "cell_type": "code",
      "source": [
        "import seaborn as sns\n",
        "ax = sns.heatmap(cf_matrix2, annot=True, cmap='Blues')\n",
        "ax.set_title('Seaborn Confusion Matrix with labels\\n\\n');\n",
        "ax.set_xlabel('\\nActual Values')\n",
        "ax.set_ylabel('Predicted Values');\n",
        "## Ticket labels - List must be in alphabetical order\n",
        "ax.xaxis.set_ticklabels(['False','True'])\n",
        "ax.yaxis.set_ticklabels(['False','True'])\n",
        "## Display the visualization of the Confusion Matrix.\n",
        "plt.show()"
      ],
      "metadata": {
        "colab": {
          "base_uri": "https://localhost:8080/",
          "height": 337
        },
        "id": "CvESA1i69YEB",
        "outputId": "bcb8b053-7e1d-47f7-88a2-9df215ff4268"
      },
      "execution_count": null,
      "outputs": [
        {
          "output_type": "display_data",
          "data": {
            "text/plain": [
              "<Figure size 432x288 with 2 Axes>"
            ],
            "image/png": "[encoded data removed]"
          },
          "metadata": {
            "needs_background": "light"
          }
        }
      ]
    },
    {
      "cell_type": "code",
      "source": [
        "f6=open('Genredict.pckl','rb')\n",
        "Genre_ID_to_name=pickle.load(f6)\n",
        "f6.close()"
      ],
      "metadata": {
        "id": "doZUvGFG9iTy"
      },
      "execution_count": null,
      "outputs": []
    },
    {
      "cell_type": "code",
      "source": [
        "genre_list=sorted(list(Genre_ID_to_name.keys()))"
      ],
      "metadata": {
        "id": "rr9i5ia_-FBA"
      },
      "execution_count": null,
      "outputs": []
    },
    {
      "cell_type": "code",
      "source": [
        "precs=[]\n",
        "recs=[]\n",
        "for i in range(len(Y_preds)):\n",
        "    row=Y_preds[i]\n",
        "    gt_genres=Y_test[i]\n",
        "    gt_genre_names=[]\n",
        "    for j in range(19):\n",
        "        if gt_genres[j]==1:\n",
        "            gt_genre_names.append(Genre_ID_to_name[genre_list[j]])\n",
        "    top_3=np.argsort(row)[-3:]\n",
        "    \n",
        "    predicted_genres=[]\n",
        "    for genre in top_3:\n",
        "        predicted_genres.append(Genre_ID_to_name[genre_list[genre]])\n",
        "    (precision,recall)=precision_recall(gt_genre_names,predicted_genres)\n",
        "    precs.append(precision)\n",
        "    recs.append(recall)\n",
        "    if i%50==0:\n",
        "        print (\"Predicted: \",','.join(predicted_genres),\" Actual: \",','.join(gt_genre_names))"
      ],
      "metadata": {
        "colab": {
          "base_uri": "https://localhost:8080/"
        },
        "id": "oE8fi8YI9_ZK",
        "outputId": "c30bab0d-452b-4735-8623-f7548d40b239"
      },
      "execution_count": null,
      "outputs": [
        {
          "output_type": "stream",
          "name": "stdout",
          "text": [
            "Predicted:  Horror,Fantasy,Action  Actual:  Adventure,Fantasy,Action\n",
            "Predicted:  Adventure,Family,Animation  Actual:  Adventure,Animation,Drama,Family\n",
            "Predicted:  Drama,Science Fiction,Action  Actual:  Adventure,Action,Thriller\n",
            "Predicted:  Action,Thriller,Horror  Actual:  Horror,Western\n",
            "Predicted:  Action,Mystery,Thriller  Actual:  Documentary\n",
            "Predicted:  Mystery,Horror,Thriller  Actual:  Animation,Horror,Comedy,Documentary,Music\n",
            "Predicted:  Animation,History,Drama  Actual:  Drama,Romance,Foreign\n"
          ]
        }
      ]
    },
    {
      "cell_type": "code",
      "source": [
        "print (np.mean(np.asarray(precs)),np.mean(np.asarray(recs)))"
      ],
      "metadata": {
        "colab": {
          "base_uri": "https://localhost:8080/"
        },
        "id": "T1i-56Nq-Hcf",
        "outputId": "1453c687-9785-4997-b0cd-1f9eeca5d3a1"
      },
      "execution_count": null,
      "outputs": [
        {
          "output_type": "stream",
          "name": "stdout",
          "text": [
            "0.47058823529411764 0.46190476190476193\n"
          ]
        }
      ]
    }
  ]
}